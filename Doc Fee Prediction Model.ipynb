{
 "cells": [
  {
   "cell_type": "code",
   "execution_count": 1,
   "id": "47d1ec21",
   "metadata": {},
   "outputs": [],
   "source": [
    "import numpy as np\n",
    "import pandas as pd\n",
    "import matplotlib.pyplot as plt\n",
    "import seaborn as sns\n",
    "from sklearn.preprocessing import LabelEncoder\n",
    "from sklearn.model_selection import train_test_split\n",
    "from sklearn.preprocessing import StandardScaler\n",
    "from sklearn.linear_model import LinearRegression\n",
    "from sklearn import metrics"
   ]
  },
  {
   "cell_type": "code",
   "execution_count": 2,
   "id": "a1a16754",
   "metadata": {},
   "outputs": [],
   "source": [
    "banglore_df = pd.read_csv(r'C:\\Users\\Nishant Shukla\\Desktop\\ML Project\\DataSets\\banglore2.csv')"
   ]
  },
  {
   "cell_type": "code",
   "execution_count": 3,
   "id": "29801905",
   "metadata": {},
   "outputs": [],
   "source": [
    "mumbai_df = pd.read_csv(r'C:\\Users\\Nishant Shukla\\Desktop\\ML Project\\DataSets\\mumbai_2.csv')"
   ]
  },
  {
   "cell_type": "code",
   "execution_count": 4,
   "id": "7c6b41ef",
   "metadata": {},
   "outputs": [],
   "source": [
    "delhi_df = pd.read_csv(r'C:\\Users\\Nishant Shukla\\Desktop\\ML Project\\DataSets\\delhi.csv')"
   ]
  },
  {
   "cell_type": "markdown",
   "id": "0311b284",
   "metadata": {},
   "source": [
    "# EDA and Pre-processing"
   ]
  },
  {
   "cell_type": "code",
   "execution_count": 5,
   "id": "49a863aa",
   "metadata": {},
   "outputs": [],
   "source": [
    "df= pd.concat([banglore_df,mumbai_df,delhi_df])"
   ]
  },
  {
   "cell_type": "code",
   "execution_count": 6,
   "id": "bb28d7fd",
   "metadata": {},
   "outputs": [
    {
     "data": {
      "text/html": [
       "<div>\n",
       "<style scoped>\n",
       "    .dataframe tbody tr th:only-of-type {\n",
       "        vertical-align: middle;\n",
       "    }\n",
       "\n",
       "    .dataframe tbody tr th {\n",
       "        vertical-align: top;\n",
       "    }\n",
       "\n",
       "    .dataframe thead th {\n",
       "        text-align: right;\n",
       "    }\n",
       "</style>\n",
       "<table border=\"1\" class=\"dataframe\">\n",
       "  <thead>\n",
       "    <tr style=\"text-align: right;\">\n",
       "      <th></th>\n",
       "      <th>Unnamed: 0</th>\n",
       "      <th>name</th>\n",
       "      <th>Speciality</th>\n",
       "      <th>Experience</th>\n",
       "      <th>Location</th>\n",
       "      <th>District</th>\n",
       "      <th>DP_score</th>\n",
       "      <th>Num_of_votes</th>\n",
       "      <th>Consultation_Fee</th>\n",
       "      <th>Degree</th>\n",
       "    </tr>\n",
       "  </thead>\n",
       "  <tbody>\n",
       "    <tr>\n",
       "      <th>0</th>\n",
       "      <td>0</td>\n",
       "      <td>Dr. Shashidhar V.</td>\n",
       "      <td>Orthopedist</td>\n",
       "      <td>18</td>\n",
       "      <td>Bangalore</td>\n",
       "      <td>Yelenahalli</td>\n",
       "      <td>96%</td>\n",
       "      <td>54.0</td>\n",
       "      <td>1000</td>\n",
       "      <td>MBBS, MS - Orthopaedics</td>\n",
       "    </tr>\n",
       "    <tr>\n",
       "      <th>1</th>\n",
       "      <td>1</td>\n",
       "      <td>Dr. Parameshwara C M</td>\n",
       "      <td>General Surgeon</td>\n",
       "      <td>28</td>\n",
       "      <td>Bangalore</td>\n",
       "      <td>HBR Layout</td>\n",
       "      <td>94%</td>\n",
       "      <td>105.0</td>\n",
       "      <td>700</td>\n",
       "      <td>MBBS, MS - General Surgery</td>\n",
       "    </tr>\n",
       "    <tr>\n",
       "      <th>2</th>\n",
       "      <td>2</td>\n",
       "      <td>Dr. B A Gopala Krishna</td>\n",
       "      <td>Orthopedist</td>\n",
       "      <td>21</td>\n",
       "      <td>Bangalore</td>\n",
       "      <td>Banashankari 2nd Stage</td>\n",
       "      <td>97%</td>\n",
       "      <td>29.0</td>\n",
       "      <td>600</td>\n",
       "      <td>MBBS, DNB - Orthopedics/Orthopedic Surgery</td>\n",
       "    </tr>\n",
       "    <tr>\n",
       "      <th>3</th>\n",
       "      <td>3</td>\n",
       "      <td>Dr. Sujay BR</td>\n",
       "      <td>Laparoscopic Surgeon</td>\n",
       "      <td>17</td>\n",
       "      <td>Bangalore</td>\n",
       "      <td>Jayanagar</td>\n",
       "      <td>94%</td>\n",
       "      <td>34.0</td>\n",
       "      <td>499</td>\n",
       "      <td>MBBS, MS - General Surgery</td>\n",
       "    </tr>\n",
       "    <tr>\n",
       "      <th>4</th>\n",
       "      <td>4</td>\n",
       "      <td>Dr. Ranganath v s</td>\n",
       "      <td>Plastic Surgeon</td>\n",
       "      <td>20</td>\n",
       "      <td>Bangalore</td>\n",
       "      <td>HRBR Layout</td>\n",
       "      <td>100%</td>\n",
       "      <td>15.0</td>\n",
       "      <td>600</td>\n",
       "      <td>MCh - Plastic &amp; Reconstructive Surgery, FNB - ...</td>\n",
       "    </tr>\n",
       "    <tr>\n",
       "      <th>...</th>\n",
       "      <td>...</td>\n",
       "      <td>...</td>\n",
       "      <td>...</td>\n",
       "      <td>...</td>\n",
       "      <td>...</td>\n",
       "      <td>...</td>\n",
       "      <td>...</td>\n",
       "      <td>...</td>\n",
       "      <td>...</td>\n",
       "      <td>...</td>\n",
       "    </tr>\n",
       "    <tr>\n",
       "      <th>1025</th>\n",
       "      <td>1025</td>\n",
       "      <td>Dr. L.N. Taneja</td>\n",
       "      <td>Pediatrician</td>\n",
       "      <td>39</td>\n",
       "      <td>Delhi</td>\n",
       "      <td>Patparganj</td>\n",
       "      <td>100%</td>\n",
       "      <td>NaN</td>\n",
       "      <td>1000</td>\n",
       "      <td>MD - Pediatrics, MBBS</td>\n",
       "    </tr>\n",
       "    <tr>\n",
       "      <th>1026</th>\n",
       "      <td>1026</td>\n",
       "      <td>Dr. Hirday Kapoor</td>\n",
       "      <td>Gynecologist/Obstetrician</td>\n",
       "      <td>30</td>\n",
       "      <td>Delhi</td>\n",
       "      <td>Punjabi Bagh</td>\n",
       "      <td>78%</td>\n",
       "      <td>5.0</td>\n",
       "      <td>1000</td>\n",
       "      <td>MBBS, DGO, DNB - Obstetrics &amp; Gynecology</td>\n",
       "    </tr>\n",
       "    <tr>\n",
       "      <th>1027</th>\n",
       "      <td>1027</td>\n",
       "      <td>Dr. Sarita Gulati</td>\n",
       "      <td>Cardiologist</td>\n",
       "      <td>30</td>\n",
       "      <td>Delhi</td>\n",
       "      <td>Dwarka Sector 6</td>\n",
       "      <td>37%</td>\n",
       "      <td>13.0</td>\n",
       "      <td>1100</td>\n",
       "      <td>MBBS, DM - Cardiology</td>\n",
       "    </tr>\n",
       "    <tr>\n",
       "      <th>1028</th>\n",
       "      <td>1028</td>\n",
       "      <td>Dr. Samanjoy Mukherjee</td>\n",
       "      <td>Cardiologist</td>\n",
       "      <td>31</td>\n",
       "      <td>Delhi</td>\n",
       "      <td>Dwarka Sector 6</td>\n",
       "      <td>NaN</td>\n",
       "      <td>NaN</td>\n",
       "      <td>1100</td>\n",
       "      <td>MBBS, MD - General Medicine, DM - Cardiology</td>\n",
       "    </tr>\n",
       "    <tr>\n",
       "      <th>1029</th>\n",
       "      <td>1029</td>\n",
       "      <td>Dr. Sudhanshu Pandey</td>\n",
       "      <td>Ayurveda</td>\n",
       "      <td>13</td>\n",
       "      <td>Delhi</td>\n",
       "      <td>Laxmi Nagar</td>\n",
       "      <td>94%</td>\n",
       "      <td>9.0</td>\n",
       "      <td>700</td>\n",
       "      <td>BAMS</td>\n",
       "    </tr>\n",
       "  </tbody>\n",
       "</table>\n",
       "<p>3070 rows × 10 columns</p>\n",
       "</div>"
      ],
      "text/plain": [
       "      Unnamed: 0                    name                 Speciality  \\\n",
       "0              0       Dr. Shashidhar V.                Orthopedist   \n",
       "1              1    Dr. Parameshwara C M            General Surgeon   \n",
       "2              2  Dr. B A Gopala Krishna                Orthopedist   \n",
       "3              3            Dr. Sujay BR       Laparoscopic Surgeon   \n",
       "4              4       Dr. Ranganath v s            Plastic Surgeon   \n",
       "...          ...                     ...                        ...   \n",
       "1025        1025         Dr. L.N. Taneja               Pediatrician   \n",
       "1026        1026       Dr. Hirday Kapoor  Gynecologist/Obstetrician   \n",
       "1027        1027       Dr. Sarita Gulati               Cardiologist   \n",
       "1028        1028  Dr. Samanjoy Mukherjee               Cardiologist   \n",
       "1029        1029    Dr. Sudhanshu Pandey                   Ayurveda   \n",
       "\n",
       "     Experience   Location                District DP_score  Num_of_votes  \\\n",
       "0            18  Bangalore             Yelenahalli     96%           54.0   \n",
       "1            28  Bangalore              HBR Layout     94%          105.0   \n",
       "2            21  Bangalore  Banashankari 2nd Stage     97%           29.0   \n",
       "3            17  Bangalore               Jayanagar     94%           34.0   \n",
       "4            20  Bangalore             HRBR Layout    100%           15.0   \n",
       "...         ...        ...                     ...      ...           ...   \n",
       "1025         39      Delhi              Patparganj    100%            NaN   \n",
       "1026         30      Delhi            Punjabi Bagh     78%            5.0   \n",
       "1027         30      Delhi         Dwarka Sector 6     37%           13.0   \n",
       "1028         31      Delhi         Dwarka Sector 6      NaN           NaN   \n",
       "1029         13      Delhi             Laxmi Nagar     94%            9.0   \n",
       "\n",
       "     Consultation_Fee                                             Degree  \n",
       "0                1000                            MBBS, MS - Orthopaedics  \n",
       "1                 700                         MBBS, MS - General Surgery  \n",
       "2                 600         MBBS, DNB - Orthopedics/Orthopedic Surgery  \n",
       "3                 499                         MBBS, MS - General Surgery  \n",
       "4                 600  MCh - Plastic & Reconstructive Surgery, FNB - ...  \n",
       "...               ...                                                ...  \n",
       "1025             1000                              MD - Pediatrics, MBBS  \n",
       "1026             1000           MBBS, DGO, DNB - Obstetrics & Gynecology  \n",
       "1027             1100                              MBBS, DM - Cardiology  \n",
       "1028             1100       MBBS, MD - General Medicine, DM - Cardiology  \n",
       "1029              700                                               BAMS  \n",
       "\n",
       "[3070 rows x 10 columns]"
      ]
     },
     "execution_count": 6,
     "metadata": {},
     "output_type": "execute_result"
    }
   ],
   "source": [
    "df"
   ]
  },
  {
   "cell_type": "code",
   "execution_count": 7,
   "id": "9da04fe2",
   "metadata": {},
   "outputs": [],
   "source": [
    "df=df.reset_index(drop=True)"
   ]
  },
  {
   "cell_type": "code",
   "execution_count": 8,
   "id": "dbcfdb90",
   "metadata": {},
   "outputs": [
    {
     "data": {
      "text/html": [
       "<div>\n",
       "<style scoped>\n",
       "    .dataframe tbody tr th:only-of-type {\n",
       "        vertical-align: middle;\n",
       "    }\n",
       "\n",
       "    .dataframe tbody tr th {\n",
       "        vertical-align: top;\n",
       "    }\n",
       "\n",
       "    .dataframe thead th {\n",
       "        text-align: right;\n",
       "    }\n",
       "</style>\n",
       "<table border=\"1\" class=\"dataframe\">\n",
       "  <thead>\n",
       "    <tr style=\"text-align: right;\">\n",
       "      <th></th>\n",
       "      <th>Unnamed: 0</th>\n",
       "      <th>name</th>\n",
       "      <th>Speciality</th>\n",
       "      <th>Experience</th>\n",
       "      <th>Location</th>\n",
       "      <th>District</th>\n",
       "      <th>DP_score</th>\n",
       "      <th>Num_of_votes</th>\n",
       "      <th>Consultation_Fee</th>\n",
       "      <th>Degree</th>\n",
       "    </tr>\n",
       "  </thead>\n",
       "  <tbody>\n",
       "    <tr>\n",
       "      <th>0</th>\n",
       "      <td>0</td>\n",
       "      <td>Dr. Shashidhar V.</td>\n",
       "      <td>Orthopedist</td>\n",
       "      <td>18</td>\n",
       "      <td>Bangalore</td>\n",
       "      <td>Yelenahalli</td>\n",
       "      <td>96%</td>\n",
       "      <td>54.0</td>\n",
       "      <td>1000</td>\n",
       "      <td>MBBS, MS - Orthopaedics</td>\n",
       "    </tr>\n",
       "    <tr>\n",
       "      <th>1</th>\n",
       "      <td>1</td>\n",
       "      <td>Dr. Parameshwara C M</td>\n",
       "      <td>General Surgeon</td>\n",
       "      <td>28</td>\n",
       "      <td>Bangalore</td>\n",
       "      <td>HBR Layout</td>\n",
       "      <td>94%</td>\n",
       "      <td>105.0</td>\n",
       "      <td>700</td>\n",
       "      <td>MBBS, MS - General Surgery</td>\n",
       "    </tr>\n",
       "    <tr>\n",
       "      <th>2</th>\n",
       "      <td>2</td>\n",
       "      <td>Dr. B A Gopala Krishna</td>\n",
       "      <td>Orthopedist</td>\n",
       "      <td>21</td>\n",
       "      <td>Bangalore</td>\n",
       "      <td>Banashankari 2nd Stage</td>\n",
       "      <td>97%</td>\n",
       "      <td>29.0</td>\n",
       "      <td>600</td>\n",
       "      <td>MBBS, DNB - Orthopedics/Orthopedic Surgery</td>\n",
       "    </tr>\n",
       "    <tr>\n",
       "      <th>3</th>\n",
       "      <td>3</td>\n",
       "      <td>Dr. Sujay BR</td>\n",
       "      <td>Laparoscopic Surgeon</td>\n",
       "      <td>17</td>\n",
       "      <td>Bangalore</td>\n",
       "      <td>Jayanagar</td>\n",
       "      <td>94%</td>\n",
       "      <td>34.0</td>\n",
       "      <td>499</td>\n",
       "      <td>MBBS, MS - General Surgery</td>\n",
       "    </tr>\n",
       "    <tr>\n",
       "      <th>4</th>\n",
       "      <td>4</td>\n",
       "      <td>Dr. Ranganath v s</td>\n",
       "      <td>Plastic Surgeon</td>\n",
       "      <td>20</td>\n",
       "      <td>Bangalore</td>\n",
       "      <td>HRBR Layout</td>\n",
       "      <td>100%</td>\n",
       "      <td>15.0</td>\n",
       "      <td>600</td>\n",
       "      <td>MCh - Plastic &amp; Reconstructive Surgery, FNB - ...</td>\n",
       "    </tr>\n",
       "    <tr>\n",
       "      <th>...</th>\n",
       "      <td>...</td>\n",
       "      <td>...</td>\n",
       "      <td>...</td>\n",
       "      <td>...</td>\n",
       "      <td>...</td>\n",
       "      <td>...</td>\n",
       "      <td>...</td>\n",
       "      <td>...</td>\n",
       "      <td>...</td>\n",
       "      <td>...</td>\n",
       "    </tr>\n",
       "    <tr>\n",
       "      <th>3065</th>\n",
       "      <td>1025</td>\n",
       "      <td>Dr. L.N. Taneja</td>\n",
       "      <td>Pediatrician</td>\n",
       "      <td>39</td>\n",
       "      <td>Delhi</td>\n",
       "      <td>Patparganj</td>\n",
       "      <td>100%</td>\n",
       "      <td>NaN</td>\n",
       "      <td>1000</td>\n",
       "      <td>MD - Pediatrics, MBBS</td>\n",
       "    </tr>\n",
       "    <tr>\n",
       "      <th>3066</th>\n",
       "      <td>1026</td>\n",
       "      <td>Dr. Hirday Kapoor</td>\n",
       "      <td>Gynecologist/Obstetrician</td>\n",
       "      <td>30</td>\n",
       "      <td>Delhi</td>\n",
       "      <td>Punjabi Bagh</td>\n",
       "      <td>78%</td>\n",
       "      <td>5.0</td>\n",
       "      <td>1000</td>\n",
       "      <td>MBBS, DGO, DNB - Obstetrics &amp; Gynecology</td>\n",
       "    </tr>\n",
       "    <tr>\n",
       "      <th>3067</th>\n",
       "      <td>1027</td>\n",
       "      <td>Dr. Sarita Gulati</td>\n",
       "      <td>Cardiologist</td>\n",
       "      <td>30</td>\n",
       "      <td>Delhi</td>\n",
       "      <td>Dwarka Sector 6</td>\n",
       "      <td>37%</td>\n",
       "      <td>13.0</td>\n",
       "      <td>1100</td>\n",
       "      <td>MBBS, DM - Cardiology</td>\n",
       "    </tr>\n",
       "    <tr>\n",
       "      <th>3068</th>\n",
       "      <td>1028</td>\n",
       "      <td>Dr. Samanjoy Mukherjee</td>\n",
       "      <td>Cardiologist</td>\n",
       "      <td>31</td>\n",
       "      <td>Delhi</td>\n",
       "      <td>Dwarka Sector 6</td>\n",
       "      <td>NaN</td>\n",
       "      <td>NaN</td>\n",
       "      <td>1100</td>\n",
       "      <td>MBBS, MD - General Medicine, DM - Cardiology</td>\n",
       "    </tr>\n",
       "    <tr>\n",
       "      <th>3069</th>\n",
       "      <td>1029</td>\n",
       "      <td>Dr. Sudhanshu Pandey</td>\n",
       "      <td>Ayurveda</td>\n",
       "      <td>13</td>\n",
       "      <td>Delhi</td>\n",
       "      <td>Laxmi Nagar</td>\n",
       "      <td>94%</td>\n",
       "      <td>9.0</td>\n",
       "      <td>700</td>\n",
       "      <td>BAMS</td>\n",
       "    </tr>\n",
       "  </tbody>\n",
       "</table>\n",
       "<p>3070 rows × 10 columns</p>\n",
       "</div>"
      ],
      "text/plain": [
       "      Unnamed: 0                    name                 Speciality  \\\n",
       "0              0       Dr. Shashidhar V.                Orthopedist   \n",
       "1              1    Dr. Parameshwara C M            General Surgeon   \n",
       "2              2  Dr. B A Gopala Krishna                Orthopedist   \n",
       "3              3            Dr. Sujay BR       Laparoscopic Surgeon   \n",
       "4              4       Dr. Ranganath v s            Plastic Surgeon   \n",
       "...          ...                     ...                        ...   \n",
       "3065        1025         Dr. L.N. Taneja               Pediatrician   \n",
       "3066        1026       Dr. Hirday Kapoor  Gynecologist/Obstetrician   \n",
       "3067        1027       Dr. Sarita Gulati               Cardiologist   \n",
       "3068        1028  Dr. Samanjoy Mukherjee               Cardiologist   \n",
       "3069        1029    Dr. Sudhanshu Pandey                   Ayurveda   \n",
       "\n",
       "     Experience   Location                District DP_score  Num_of_votes  \\\n",
       "0            18  Bangalore             Yelenahalli     96%           54.0   \n",
       "1            28  Bangalore              HBR Layout     94%          105.0   \n",
       "2            21  Bangalore  Banashankari 2nd Stage     97%           29.0   \n",
       "3            17  Bangalore               Jayanagar     94%           34.0   \n",
       "4            20  Bangalore             HRBR Layout    100%           15.0   \n",
       "...         ...        ...                     ...      ...           ...   \n",
       "3065         39      Delhi              Patparganj    100%            NaN   \n",
       "3066         30      Delhi            Punjabi Bagh     78%            5.0   \n",
       "3067         30      Delhi         Dwarka Sector 6     37%           13.0   \n",
       "3068         31      Delhi         Dwarka Sector 6      NaN           NaN   \n",
       "3069         13      Delhi             Laxmi Nagar     94%            9.0   \n",
       "\n",
       "     Consultation_Fee                                             Degree  \n",
       "0                1000                            MBBS, MS - Orthopaedics  \n",
       "1                 700                         MBBS, MS - General Surgery  \n",
       "2                 600         MBBS, DNB - Orthopedics/Orthopedic Surgery  \n",
       "3                 499                         MBBS, MS - General Surgery  \n",
       "4                 600  MCh - Plastic & Reconstructive Surgery, FNB - ...  \n",
       "...               ...                                                ...  \n",
       "3065             1000                              MD - Pediatrics, MBBS  \n",
       "3066             1000           MBBS, DGO, DNB - Obstetrics & Gynecology  \n",
       "3067             1100                              MBBS, DM - Cardiology  \n",
       "3068             1100       MBBS, MD - General Medicine, DM - Cardiology  \n",
       "3069              700                                               BAMS  \n",
       "\n",
       "[3070 rows x 10 columns]"
      ]
     },
     "execution_count": 8,
     "metadata": {},
     "output_type": "execute_result"
    }
   ],
   "source": [
    "df"
   ]
  },
  {
   "cell_type": "code",
   "execution_count": 9,
   "id": "08acf926",
   "metadata": {},
   "outputs": [
    {
     "name": "stdout",
     "output_type": "stream",
     "text": [
      "<class 'pandas.core.frame.DataFrame'>\n",
      "RangeIndex: 3070 entries, 0 to 3069\n",
      "Data columns (total 10 columns):\n",
      " #   Column            Non-Null Count  Dtype  \n",
      "---  ------            --------------  -----  \n",
      " 0   Unnamed: 0        3070 non-null   int64  \n",
      " 1   name              3070 non-null   object \n",
      " 2   Speciality        3062 non-null   object \n",
      " 3   Experience        3070 non-null   object \n",
      " 4   Location          3068 non-null   object \n",
      " 5   District          3070 non-null   object \n",
      " 6   DP_score          2870 non-null   object \n",
      " 7   Num_of_votes      2766 non-null   float64\n",
      " 8   Consultation_Fee  3069 non-null   object \n",
      " 9   Degree            3019 non-null   object \n",
      "dtypes: float64(1), int64(1), object(8)\n",
      "memory usage: 240.0+ KB\n"
     ]
    }
   ],
   "source": [
    "df.info()"
   ]
  },
  {
   "cell_type": "code",
   "execution_count": 10,
   "id": "75a6425f",
   "metadata": {},
   "outputs": [],
   "source": [
    "df.drop(['Unnamed: 0'],axis =1, inplace = True)"
   ]
  },
  {
   "cell_type": "code",
   "execution_count": 11,
   "id": "63e93783",
   "metadata": {},
   "outputs": [
    {
     "data": {
      "text/html": [
       "<div>\n",
       "<style scoped>\n",
       "    .dataframe tbody tr th:only-of-type {\n",
       "        vertical-align: middle;\n",
       "    }\n",
       "\n",
       "    .dataframe tbody tr th {\n",
       "        vertical-align: top;\n",
       "    }\n",
       "\n",
       "    .dataframe thead th {\n",
       "        text-align: right;\n",
       "    }\n",
       "</style>\n",
       "<table border=\"1\" class=\"dataframe\">\n",
       "  <thead>\n",
       "    <tr style=\"text-align: right;\">\n",
       "      <th></th>\n",
       "      <th>name</th>\n",
       "      <th>Speciality</th>\n",
       "      <th>Experience</th>\n",
       "      <th>Location</th>\n",
       "      <th>District</th>\n",
       "      <th>DP_score</th>\n",
       "      <th>Num_of_votes</th>\n",
       "      <th>Consultation_Fee</th>\n",
       "      <th>Degree</th>\n",
       "    </tr>\n",
       "  </thead>\n",
       "  <tbody>\n",
       "    <tr>\n",
       "      <th>0</th>\n",
       "      <td>Dr. Shashidhar V.</td>\n",
       "      <td>Orthopedist</td>\n",
       "      <td>18</td>\n",
       "      <td>Bangalore</td>\n",
       "      <td>Yelenahalli</td>\n",
       "      <td>96%</td>\n",
       "      <td>54.0</td>\n",
       "      <td>1000</td>\n",
       "      <td>MBBS, MS - Orthopaedics</td>\n",
       "    </tr>\n",
       "    <tr>\n",
       "      <th>1</th>\n",
       "      <td>Dr. Parameshwara C M</td>\n",
       "      <td>General Surgeon</td>\n",
       "      <td>28</td>\n",
       "      <td>Bangalore</td>\n",
       "      <td>HBR Layout</td>\n",
       "      <td>94%</td>\n",
       "      <td>105.0</td>\n",
       "      <td>700</td>\n",
       "      <td>MBBS, MS - General Surgery</td>\n",
       "    </tr>\n",
       "    <tr>\n",
       "      <th>2</th>\n",
       "      <td>Dr. B A Gopala Krishna</td>\n",
       "      <td>Orthopedist</td>\n",
       "      <td>21</td>\n",
       "      <td>Bangalore</td>\n",
       "      <td>Banashankari 2nd Stage</td>\n",
       "      <td>97%</td>\n",
       "      <td>29.0</td>\n",
       "      <td>600</td>\n",
       "      <td>MBBS, DNB - Orthopedics/Orthopedic Surgery</td>\n",
       "    </tr>\n",
       "    <tr>\n",
       "      <th>3</th>\n",
       "      <td>Dr. Sujay BR</td>\n",
       "      <td>Laparoscopic Surgeon</td>\n",
       "      <td>17</td>\n",
       "      <td>Bangalore</td>\n",
       "      <td>Jayanagar</td>\n",
       "      <td>94%</td>\n",
       "      <td>34.0</td>\n",
       "      <td>499</td>\n",
       "      <td>MBBS, MS - General Surgery</td>\n",
       "    </tr>\n",
       "    <tr>\n",
       "      <th>4</th>\n",
       "      <td>Dr. Ranganath v s</td>\n",
       "      <td>Plastic Surgeon</td>\n",
       "      <td>20</td>\n",
       "      <td>Bangalore</td>\n",
       "      <td>HRBR Layout</td>\n",
       "      <td>100%</td>\n",
       "      <td>15.0</td>\n",
       "      <td>600</td>\n",
       "      <td>MCh - Plastic &amp; Reconstructive Surgery, FNB - ...</td>\n",
       "    </tr>\n",
       "    <tr>\n",
       "      <th>...</th>\n",
       "      <td>...</td>\n",
       "      <td>...</td>\n",
       "      <td>...</td>\n",
       "      <td>...</td>\n",
       "      <td>...</td>\n",
       "      <td>...</td>\n",
       "      <td>...</td>\n",
       "      <td>...</td>\n",
       "      <td>...</td>\n",
       "    </tr>\n",
       "    <tr>\n",
       "      <th>3065</th>\n",
       "      <td>Dr. L.N. Taneja</td>\n",
       "      <td>Pediatrician</td>\n",
       "      <td>39</td>\n",
       "      <td>Delhi</td>\n",
       "      <td>Patparganj</td>\n",
       "      <td>100%</td>\n",
       "      <td>NaN</td>\n",
       "      <td>1000</td>\n",
       "      <td>MD - Pediatrics, MBBS</td>\n",
       "    </tr>\n",
       "    <tr>\n",
       "      <th>3066</th>\n",
       "      <td>Dr. Hirday Kapoor</td>\n",
       "      <td>Gynecologist/Obstetrician</td>\n",
       "      <td>30</td>\n",
       "      <td>Delhi</td>\n",
       "      <td>Punjabi Bagh</td>\n",
       "      <td>78%</td>\n",
       "      <td>5.0</td>\n",
       "      <td>1000</td>\n",
       "      <td>MBBS, DGO, DNB - Obstetrics &amp; Gynecology</td>\n",
       "    </tr>\n",
       "    <tr>\n",
       "      <th>3067</th>\n",
       "      <td>Dr. Sarita Gulati</td>\n",
       "      <td>Cardiologist</td>\n",
       "      <td>30</td>\n",
       "      <td>Delhi</td>\n",
       "      <td>Dwarka Sector 6</td>\n",
       "      <td>37%</td>\n",
       "      <td>13.0</td>\n",
       "      <td>1100</td>\n",
       "      <td>MBBS, DM - Cardiology</td>\n",
       "    </tr>\n",
       "    <tr>\n",
       "      <th>3068</th>\n",
       "      <td>Dr. Samanjoy Mukherjee</td>\n",
       "      <td>Cardiologist</td>\n",
       "      <td>31</td>\n",
       "      <td>Delhi</td>\n",
       "      <td>Dwarka Sector 6</td>\n",
       "      <td>NaN</td>\n",
       "      <td>NaN</td>\n",
       "      <td>1100</td>\n",
       "      <td>MBBS, MD - General Medicine, DM - Cardiology</td>\n",
       "    </tr>\n",
       "    <tr>\n",
       "      <th>3069</th>\n",
       "      <td>Dr. Sudhanshu Pandey</td>\n",
       "      <td>Ayurveda</td>\n",
       "      <td>13</td>\n",
       "      <td>Delhi</td>\n",
       "      <td>Laxmi Nagar</td>\n",
       "      <td>94%</td>\n",
       "      <td>9.0</td>\n",
       "      <td>700</td>\n",
       "      <td>BAMS</td>\n",
       "    </tr>\n",
       "  </tbody>\n",
       "</table>\n",
       "<p>3070 rows × 9 columns</p>\n",
       "</div>"
      ],
      "text/plain": [
       "                        name                 Speciality Experience   Location  \\\n",
       "0          Dr. Shashidhar V.                Orthopedist         18  Bangalore   \n",
       "1       Dr. Parameshwara C M            General Surgeon         28  Bangalore   \n",
       "2     Dr. B A Gopala Krishna                Orthopedist         21  Bangalore   \n",
       "3               Dr. Sujay BR       Laparoscopic Surgeon         17  Bangalore   \n",
       "4          Dr. Ranganath v s            Plastic Surgeon         20  Bangalore   \n",
       "...                      ...                        ...        ...        ...   \n",
       "3065         Dr. L.N. Taneja               Pediatrician         39      Delhi   \n",
       "3066       Dr. Hirday Kapoor  Gynecologist/Obstetrician         30      Delhi   \n",
       "3067       Dr. Sarita Gulati               Cardiologist         30      Delhi   \n",
       "3068  Dr. Samanjoy Mukherjee               Cardiologist         31      Delhi   \n",
       "3069    Dr. Sudhanshu Pandey                   Ayurveda         13      Delhi   \n",
       "\n",
       "                    District DP_score  Num_of_votes Consultation_Fee  \\\n",
       "0                Yelenahalli     96%           54.0             1000   \n",
       "1                 HBR Layout     94%          105.0              700   \n",
       "2     Banashankari 2nd Stage     97%           29.0              600   \n",
       "3                  Jayanagar     94%           34.0              499   \n",
       "4                HRBR Layout    100%           15.0              600   \n",
       "...                      ...      ...           ...              ...   \n",
       "3065              Patparganj    100%            NaN             1000   \n",
       "3066            Punjabi Bagh     78%            5.0             1000   \n",
       "3067         Dwarka Sector 6     37%           13.0             1100   \n",
       "3068         Dwarka Sector 6      NaN           NaN             1100   \n",
       "3069             Laxmi Nagar     94%            9.0              700   \n",
       "\n",
       "                                                 Degree  \n",
       "0                               MBBS, MS - Orthopaedics  \n",
       "1                            MBBS, MS - General Surgery  \n",
       "2            MBBS, DNB - Orthopedics/Orthopedic Surgery  \n",
       "3                            MBBS, MS - General Surgery  \n",
       "4     MCh - Plastic & Reconstructive Surgery, FNB - ...  \n",
       "...                                                 ...  \n",
       "3065                              MD - Pediatrics, MBBS  \n",
       "3066           MBBS, DGO, DNB - Obstetrics & Gynecology  \n",
       "3067                              MBBS, DM - Cardiology  \n",
       "3068       MBBS, MD - General Medicine, DM - Cardiology  \n",
       "3069                                               BAMS  \n",
       "\n",
       "[3070 rows x 9 columns]"
      ]
     },
     "execution_count": 11,
     "metadata": {},
     "output_type": "execute_result"
    }
   ],
   "source": [
    "df"
   ]
  },
  {
   "cell_type": "code",
   "execution_count": 12,
   "id": "5e42fc07",
   "metadata": {},
   "outputs": [
    {
     "data": {
      "text/plain": [
       "name                  0\n",
       "Speciality            8\n",
       "Experience            0\n",
       "Location              2\n",
       "District              0\n",
       "DP_score            200\n",
       "Num_of_votes        304\n",
       "Consultation_Fee      1\n",
       "Degree               51\n",
       "dtype: int64"
      ]
     },
     "execution_count": 12,
     "metadata": {},
     "output_type": "execute_result"
    }
   ],
   "source": [
    "df.isnull().sum()"
   ]
  },
  {
   "cell_type": "code",
   "execution_count": 13,
   "id": "e1dfc457",
   "metadata": {},
   "outputs": [],
   "source": [
    "df = df.dropna()"
   ]
  },
  {
   "cell_type": "code",
   "execution_count": 14,
   "id": "ed111c20",
   "metadata": {},
   "outputs": [
    {
     "data": {
      "text/html": [
       "<div>\n",
       "<style scoped>\n",
       "    .dataframe tbody tr th:only-of-type {\n",
       "        vertical-align: middle;\n",
       "    }\n",
       "\n",
       "    .dataframe tbody tr th {\n",
       "        vertical-align: top;\n",
       "    }\n",
       "\n",
       "    .dataframe thead th {\n",
       "        text-align: right;\n",
       "    }\n",
       "</style>\n",
       "<table border=\"1\" class=\"dataframe\">\n",
       "  <thead>\n",
       "    <tr style=\"text-align: right;\">\n",
       "      <th></th>\n",
       "      <th>name</th>\n",
       "      <th>Speciality</th>\n",
       "      <th>Experience</th>\n",
       "      <th>Location</th>\n",
       "      <th>District</th>\n",
       "      <th>DP_score</th>\n",
       "      <th>Num_of_votes</th>\n",
       "      <th>Consultation_Fee</th>\n",
       "      <th>Degree</th>\n",
       "    </tr>\n",
       "  </thead>\n",
       "  <tbody>\n",
       "    <tr>\n",
       "      <th>0</th>\n",
       "      <td>Dr. Shashidhar V.</td>\n",
       "      <td>Orthopedist</td>\n",
       "      <td>18</td>\n",
       "      <td>Bangalore</td>\n",
       "      <td>Yelenahalli</td>\n",
       "      <td>96%</td>\n",
       "      <td>54.0</td>\n",
       "      <td>1000</td>\n",
       "      <td>MBBS, MS - Orthopaedics</td>\n",
       "    </tr>\n",
       "    <tr>\n",
       "      <th>1</th>\n",
       "      <td>Dr. Parameshwara C M</td>\n",
       "      <td>General Surgeon</td>\n",
       "      <td>28</td>\n",
       "      <td>Bangalore</td>\n",
       "      <td>HBR Layout</td>\n",
       "      <td>94%</td>\n",
       "      <td>105.0</td>\n",
       "      <td>700</td>\n",
       "      <td>MBBS, MS - General Surgery</td>\n",
       "    </tr>\n",
       "    <tr>\n",
       "      <th>2</th>\n",
       "      <td>Dr. B A Gopala Krishna</td>\n",
       "      <td>Orthopedist</td>\n",
       "      <td>21</td>\n",
       "      <td>Bangalore</td>\n",
       "      <td>Banashankari 2nd Stage</td>\n",
       "      <td>97%</td>\n",
       "      <td>29.0</td>\n",
       "      <td>600</td>\n",
       "      <td>MBBS, DNB - Orthopedics/Orthopedic Surgery</td>\n",
       "    </tr>\n",
       "    <tr>\n",
       "      <th>3</th>\n",
       "      <td>Dr. Sujay BR</td>\n",
       "      <td>Laparoscopic Surgeon</td>\n",
       "      <td>17</td>\n",
       "      <td>Bangalore</td>\n",
       "      <td>Jayanagar</td>\n",
       "      <td>94%</td>\n",
       "      <td>34.0</td>\n",
       "      <td>499</td>\n",
       "      <td>MBBS, MS - General Surgery</td>\n",
       "    </tr>\n",
       "    <tr>\n",
       "      <th>4</th>\n",
       "      <td>Dr. Ranganath v s</td>\n",
       "      <td>Plastic Surgeon</td>\n",
       "      <td>20</td>\n",
       "      <td>Bangalore</td>\n",
       "      <td>HRBR Layout</td>\n",
       "      <td>100%</td>\n",
       "      <td>15.0</td>\n",
       "      <td>600</td>\n",
       "      <td>MCh - Plastic &amp; Reconstructive Surgery, FNB - ...</td>\n",
       "    </tr>\n",
       "    <tr>\n",
       "      <th>...</th>\n",
       "      <td>...</td>\n",
       "      <td>...</td>\n",
       "      <td>...</td>\n",
       "      <td>...</td>\n",
       "      <td>...</td>\n",
       "      <td>...</td>\n",
       "      <td>...</td>\n",
       "      <td>...</td>\n",
       "      <td>...</td>\n",
       "    </tr>\n",
       "    <tr>\n",
       "      <th>3063</th>\n",
       "      <td>Dr. Anjana Kalia</td>\n",
       "      <td>Dietitian/Nutritionist</td>\n",
       "      <td>21</td>\n",
       "      <td>Delhi</td>\n",
       "      <td>Dwarka</td>\n",
       "      <td>99%</td>\n",
       "      <td>124.0</td>\n",
       "      <td>1000</td>\n",
       "      <td>BAMS, Fellowship in Applied Nutrition(FAN)</td>\n",
       "    </tr>\n",
       "    <tr>\n",
       "      <th>3064</th>\n",
       "      <td>Dr. Rahul Sekhri   (Physiotherapist)</td>\n",
       "      <td>Physiotherapist</td>\n",
       "      <td>13</td>\n",
       "      <td>Delhi</td>\n",
       "      <td>Preet Vihar</td>\n",
       "      <td>97%</td>\n",
       "      <td>54.0</td>\n",
       "      <td>500</td>\n",
       "      <td>BPTh/BPT, Diploma in Diet and Nutrition</td>\n",
       "    </tr>\n",
       "    <tr>\n",
       "      <th>3066</th>\n",
       "      <td>Dr. Hirday Kapoor</td>\n",
       "      <td>Gynecologist/Obstetrician</td>\n",
       "      <td>30</td>\n",
       "      <td>Delhi</td>\n",
       "      <td>Punjabi Bagh</td>\n",
       "      <td>78%</td>\n",
       "      <td>5.0</td>\n",
       "      <td>1000</td>\n",
       "      <td>MBBS, DGO, DNB - Obstetrics &amp; Gynecology</td>\n",
       "    </tr>\n",
       "    <tr>\n",
       "      <th>3067</th>\n",
       "      <td>Dr. Sarita Gulati</td>\n",
       "      <td>Cardiologist</td>\n",
       "      <td>30</td>\n",
       "      <td>Delhi</td>\n",
       "      <td>Dwarka Sector 6</td>\n",
       "      <td>37%</td>\n",
       "      <td>13.0</td>\n",
       "      <td>1100</td>\n",
       "      <td>MBBS, DM - Cardiology</td>\n",
       "    </tr>\n",
       "    <tr>\n",
       "      <th>3069</th>\n",
       "      <td>Dr. Sudhanshu Pandey</td>\n",
       "      <td>Ayurveda</td>\n",
       "      <td>13</td>\n",
       "      <td>Delhi</td>\n",
       "      <td>Laxmi Nagar</td>\n",
       "      <td>94%</td>\n",
       "      <td>9.0</td>\n",
       "      <td>700</td>\n",
       "      <td>BAMS</td>\n",
       "    </tr>\n",
       "  </tbody>\n",
       "</table>\n",
       "<p>2710 rows × 9 columns</p>\n",
       "</div>"
      ],
      "text/plain": [
       "                                      name                 Speciality  \\\n",
       "0                        Dr. Shashidhar V.                Orthopedist   \n",
       "1                     Dr. Parameshwara C M            General Surgeon   \n",
       "2                   Dr. B A Gopala Krishna                Orthopedist   \n",
       "3                             Dr. Sujay BR       Laparoscopic Surgeon   \n",
       "4                        Dr. Ranganath v s            Plastic Surgeon   \n",
       "...                                    ...                        ...   \n",
       "3063                      Dr. Anjana Kalia     Dietitian/Nutritionist   \n",
       "3064  Dr. Rahul Sekhri   (Physiotherapist)            Physiotherapist   \n",
       "3066                     Dr. Hirday Kapoor  Gynecologist/Obstetrician   \n",
       "3067                     Dr. Sarita Gulati               Cardiologist   \n",
       "3069                  Dr. Sudhanshu Pandey                   Ayurveda   \n",
       "\n",
       "     Experience   Location                District DP_score  Num_of_votes  \\\n",
       "0            18  Bangalore             Yelenahalli     96%           54.0   \n",
       "1            28  Bangalore              HBR Layout     94%          105.0   \n",
       "2            21  Bangalore  Banashankari 2nd Stage     97%           29.0   \n",
       "3            17  Bangalore               Jayanagar     94%           34.0   \n",
       "4            20  Bangalore             HRBR Layout    100%           15.0   \n",
       "...         ...        ...                     ...      ...           ...   \n",
       "3063         21      Delhi                  Dwarka     99%          124.0   \n",
       "3064         13      Delhi             Preet Vihar     97%           54.0   \n",
       "3066         30      Delhi            Punjabi Bagh     78%            5.0   \n",
       "3067         30      Delhi         Dwarka Sector 6     37%           13.0   \n",
       "3069         13      Delhi             Laxmi Nagar     94%            9.0   \n",
       "\n",
       "     Consultation_Fee                                             Degree  \n",
       "0                1000                            MBBS, MS - Orthopaedics  \n",
       "1                 700                         MBBS, MS - General Surgery  \n",
       "2                 600         MBBS, DNB - Orthopedics/Orthopedic Surgery  \n",
       "3                 499                         MBBS, MS - General Surgery  \n",
       "4                 600  MCh - Plastic & Reconstructive Surgery, FNB - ...  \n",
       "...               ...                                                ...  \n",
       "3063             1000         BAMS, Fellowship in Applied Nutrition(FAN)  \n",
       "3064              500            BPTh/BPT, Diploma in Diet and Nutrition  \n",
       "3066             1000           MBBS, DGO, DNB - Obstetrics & Gynecology  \n",
       "3067             1100                              MBBS, DM - Cardiology  \n",
       "3069              700                                               BAMS  \n",
       "\n",
       "[2710 rows x 9 columns]"
      ]
     },
     "execution_count": 14,
     "metadata": {},
     "output_type": "execute_result"
    }
   ],
   "source": [
    "df"
   ]
  },
  {
   "cell_type": "markdown",
   "id": "acaa4bcf",
   "metadata": {},
   "source": [
    "### Removing % sign"
   ]
  },
  {
   "cell_type": "code",
   "execution_count": 15,
   "id": "fca2f588",
   "metadata": {},
   "outputs": [
    {
     "name": "stderr",
     "output_type": "stream",
     "text": [
      "C:\\Users\\Nishant Shukla\\AppData\\Local\\Temp\\ipykernel_34580\\3728899490.py:1: SettingWithCopyWarning: \n",
      "A value is trying to be set on a copy of a slice from a DataFrame.\n",
      "Try using .loc[row_indexer,col_indexer] = value instead\n",
      "\n",
      "See the caveats in the documentation: https://pandas.pydata.org/pandas-docs/stable/user_guide/indexing.html#returning-a-view-versus-a-copy\n",
      "  df['DP_score'] = df['DP_score'].replace({'%': ''}, regex=True)\n"
     ]
    }
   ],
   "source": [
    "df['DP_score'] = df['DP_score'].replace({'%': ''}, regex=True)"
   ]
  },
  {
   "cell_type": "code",
   "execution_count": 16,
   "id": "1ccdfec8",
   "metadata": {},
   "outputs": [
    {
     "data": {
      "text/html": [
       "<div>\n",
       "<style scoped>\n",
       "    .dataframe tbody tr th:only-of-type {\n",
       "        vertical-align: middle;\n",
       "    }\n",
       "\n",
       "    .dataframe tbody tr th {\n",
       "        vertical-align: top;\n",
       "    }\n",
       "\n",
       "    .dataframe thead th {\n",
       "        text-align: right;\n",
       "    }\n",
       "</style>\n",
       "<table border=\"1\" class=\"dataframe\">\n",
       "  <thead>\n",
       "    <tr style=\"text-align: right;\">\n",
       "      <th></th>\n",
       "      <th>name</th>\n",
       "      <th>Speciality</th>\n",
       "      <th>Experience</th>\n",
       "      <th>Location</th>\n",
       "      <th>District</th>\n",
       "      <th>DP_score</th>\n",
       "      <th>Num_of_votes</th>\n",
       "      <th>Consultation_Fee</th>\n",
       "      <th>Degree</th>\n",
       "    </tr>\n",
       "  </thead>\n",
       "  <tbody>\n",
       "    <tr>\n",
       "      <th>0</th>\n",
       "      <td>Dr. Shashidhar V.</td>\n",
       "      <td>Orthopedist</td>\n",
       "      <td>18</td>\n",
       "      <td>Bangalore</td>\n",
       "      <td>Yelenahalli</td>\n",
       "      <td>96</td>\n",
       "      <td>54.0</td>\n",
       "      <td>1000</td>\n",
       "      <td>MBBS, MS - Orthopaedics</td>\n",
       "    </tr>\n",
       "    <tr>\n",
       "      <th>1</th>\n",
       "      <td>Dr. Parameshwara C M</td>\n",
       "      <td>General Surgeon</td>\n",
       "      <td>28</td>\n",
       "      <td>Bangalore</td>\n",
       "      <td>HBR Layout</td>\n",
       "      <td>94</td>\n",
       "      <td>105.0</td>\n",
       "      <td>700</td>\n",
       "      <td>MBBS, MS - General Surgery</td>\n",
       "    </tr>\n",
       "    <tr>\n",
       "      <th>2</th>\n",
       "      <td>Dr. B A Gopala Krishna</td>\n",
       "      <td>Orthopedist</td>\n",
       "      <td>21</td>\n",
       "      <td>Bangalore</td>\n",
       "      <td>Banashankari 2nd Stage</td>\n",
       "      <td>97</td>\n",
       "      <td>29.0</td>\n",
       "      <td>600</td>\n",
       "      <td>MBBS, DNB - Orthopedics/Orthopedic Surgery</td>\n",
       "    </tr>\n",
       "    <tr>\n",
       "      <th>3</th>\n",
       "      <td>Dr. Sujay BR</td>\n",
       "      <td>Laparoscopic Surgeon</td>\n",
       "      <td>17</td>\n",
       "      <td>Bangalore</td>\n",
       "      <td>Jayanagar</td>\n",
       "      <td>94</td>\n",
       "      <td>34.0</td>\n",
       "      <td>499</td>\n",
       "      <td>MBBS, MS - General Surgery</td>\n",
       "    </tr>\n",
       "    <tr>\n",
       "      <th>4</th>\n",
       "      <td>Dr. Ranganath v s</td>\n",
       "      <td>Plastic Surgeon</td>\n",
       "      <td>20</td>\n",
       "      <td>Bangalore</td>\n",
       "      <td>HRBR Layout</td>\n",
       "      <td>100</td>\n",
       "      <td>15.0</td>\n",
       "      <td>600</td>\n",
       "      <td>MCh - Plastic &amp; Reconstructive Surgery, FNB - ...</td>\n",
       "    </tr>\n",
       "    <tr>\n",
       "      <th>...</th>\n",
       "      <td>...</td>\n",
       "      <td>...</td>\n",
       "      <td>...</td>\n",
       "      <td>...</td>\n",
       "      <td>...</td>\n",
       "      <td>...</td>\n",
       "      <td>...</td>\n",
       "      <td>...</td>\n",
       "      <td>...</td>\n",
       "    </tr>\n",
       "    <tr>\n",
       "      <th>3063</th>\n",
       "      <td>Dr. Anjana Kalia</td>\n",
       "      <td>Dietitian/Nutritionist</td>\n",
       "      <td>21</td>\n",
       "      <td>Delhi</td>\n",
       "      <td>Dwarka</td>\n",
       "      <td>99</td>\n",
       "      <td>124.0</td>\n",
       "      <td>1000</td>\n",
       "      <td>BAMS, Fellowship in Applied Nutrition(FAN)</td>\n",
       "    </tr>\n",
       "    <tr>\n",
       "      <th>3064</th>\n",
       "      <td>Dr. Rahul Sekhri   (Physiotherapist)</td>\n",
       "      <td>Physiotherapist</td>\n",
       "      <td>13</td>\n",
       "      <td>Delhi</td>\n",
       "      <td>Preet Vihar</td>\n",
       "      <td>97</td>\n",
       "      <td>54.0</td>\n",
       "      <td>500</td>\n",
       "      <td>BPTh/BPT, Diploma in Diet and Nutrition</td>\n",
       "    </tr>\n",
       "    <tr>\n",
       "      <th>3066</th>\n",
       "      <td>Dr. Hirday Kapoor</td>\n",
       "      <td>Gynecologist/Obstetrician</td>\n",
       "      <td>30</td>\n",
       "      <td>Delhi</td>\n",
       "      <td>Punjabi Bagh</td>\n",
       "      <td>78</td>\n",
       "      <td>5.0</td>\n",
       "      <td>1000</td>\n",
       "      <td>MBBS, DGO, DNB - Obstetrics &amp; Gynecology</td>\n",
       "    </tr>\n",
       "    <tr>\n",
       "      <th>3067</th>\n",
       "      <td>Dr. Sarita Gulati</td>\n",
       "      <td>Cardiologist</td>\n",
       "      <td>30</td>\n",
       "      <td>Delhi</td>\n",
       "      <td>Dwarka Sector 6</td>\n",
       "      <td>37</td>\n",
       "      <td>13.0</td>\n",
       "      <td>1100</td>\n",
       "      <td>MBBS, DM - Cardiology</td>\n",
       "    </tr>\n",
       "    <tr>\n",
       "      <th>3069</th>\n",
       "      <td>Dr. Sudhanshu Pandey</td>\n",
       "      <td>Ayurveda</td>\n",
       "      <td>13</td>\n",
       "      <td>Delhi</td>\n",
       "      <td>Laxmi Nagar</td>\n",
       "      <td>94</td>\n",
       "      <td>9.0</td>\n",
       "      <td>700</td>\n",
       "      <td>BAMS</td>\n",
       "    </tr>\n",
       "  </tbody>\n",
       "</table>\n",
       "<p>2710 rows × 9 columns</p>\n",
       "</div>"
      ],
      "text/plain": [
       "                                      name                 Speciality  \\\n",
       "0                        Dr. Shashidhar V.                Orthopedist   \n",
       "1                     Dr. Parameshwara C M            General Surgeon   \n",
       "2                   Dr. B A Gopala Krishna                Orthopedist   \n",
       "3                             Dr. Sujay BR       Laparoscopic Surgeon   \n",
       "4                        Dr. Ranganath v s            Plastic Surgeon   \n",
       "...                                    ...                        ...   \n",
       "3063                      Dr. Anjana Kalia     Dietitian/Nutritionist   \n",
       "3064  Dr. Rahul Sekhri   (Physiotherapist)            Physiotherapist   \n",
       "3066                     Dr. Hirday Kapoor  Gynecologist/Obstetrician   \n",
       "3067                     Dr. Sarita Gulati               Cardiologist   \n",
       "3069                  Dr. Sudhanshu Pandey                   Ayurveda   \n",
       "\n",
       "     Experience   Location                District DP_score  Num_of_votes  \\\n",
       "0            18  Bangalore             Yelenahalli      96           54.0   \n",
       "1            28  Bangalore              HBR Layout      94          105.0   \n",
       "2            21  Bangalore  Banashankari 2nd Stage      97           29.0   \n",
       "3            17  Bangalore               Jayanagar      94           34.0   \n",
       "4            20  Bangalore             HRBR Layout     100           15.0   \n",
       "...         ...        ...                     ...      ...           ...   \n",
       "3063         21      Delhi                  Dwarka      99          124.0   \n",
       "3064         13      Delhi             Preet Vihar      97           54.0   \n",
       "3066         30      Delhi            Punjabi Bagh      78            5.0   \n",
       "3067         30      Delhi         Dwarka Sector 6      37           13.0   \n",
       "3069         13      Delhi             Laxmi Nagar      94            9.0   \n",
       "\n",
       "     Consultation_Fee                                             Degree  \n",
       "0                1000                            MBBS, MS - Orthopaedics  \n",
       "1                 700                         MBBS, MS - General Surgery  \n",
       "2                 600         MBBS, DNB - Orthopedics/Orthopedic Surgery  \n",
       "3                 499                         MBBS, MS - General Surgery  \n",
       "4                 600  MCh - Plastic & Reconstructive Surgery, FNB - ...  \n",
       "...               ...                                                ...  \n",
       "3063             1000         BAMS, Fellowship in Applied Nutrition(FAN)  \n",
       "3064              500            BPTh/BPT, Diploma in Diet and Nutrition  \n",
       "3066             1000           MBBS, DGO, DNB - Obstetrics & Gynecology  \n",
       "3067             1100                              MBBS, DM - Cardiology  \n",
       "3069              700                                               BAMS  \n",
       "\n",
       "[2710 rows x 9 columns]"
      ]
     },
     "execution_count": 16,
     "metadata": {},
     "output_type": "execute_result"
    }
   ],
   "source": [
    "df"
   ]
  },
  {
   "cell_type": "code",
   "execution_count": 17,
   "id": "4842d4db",
   "metadata": {},
   "outputs": [
    {
     "name": "stdout",
     "output_type": "stream",
     "text": [
      "<class 'pandas.core.frame.DataFrame'>\n",
      "Int64Index: 2710 entries, 0 to 3069\n",
      "Data columns (total 9 columns):\n",
      " #   Column            Non-Null Count  Dtype  \n",
      "---  ------            --------------  -----  \n",
      " 0   name              2710 non-null   object \n",
      " 1   Speciality        2710 non-null   object \n",
      " 2   Experience        2710 non-null   object \n",
      " 3   Location          2710 non-null   object \n",
      " 4   District          2710 non-null   object \n",
      " 5   DP_score          2710 non-null   object \n",
      " 6   Num_of_votes      2710 non-null   float64\n",
      " 7   Consultation_Fee  2710 non-null   object \n",
      " 8   Degree            2710 non-null   object \n",
      "dtypes: float64(1), object(8)\n",
      "memory usage: 211.7+ KB\n"
     ]
    }
   ],
   "source": [
    "df.info()"
   ]
  },
  {
   "cell_type": "markdown",
   "id": "04165b2a",
   "metadata": {},
   "source": [
    "### converting Columns having numbers and datatype as object to Numeric"
   ]
  },
  {
   "cell_type": "code",
   "execution_count": 18,
   "id": "53a908d6",
   "metadata": {},
   "outputs": [
    {
     "name": "stderr",
     "output_type": "stream",
     "text": [
      "C:\\Users\\Nishant Shukla\\AppData\\Local\\Temp\\ipykernel_34580\\2727712984.py:4: SettingWithCopyWarning: \n",
      "A value is trying to be set on a copy of a slice from a DataFrame.\n",
      "Try using .loc[row_indexer,col_indexer] = value instead\n",
      "\n",
      "See the caveats in the documentation: https://pandas.pydata.org/pandas-docs/stable/user_guide/indexing.html#returning-a-view-versus-a-copy\n",
      "  df[c] = pd.to_numeric(df[c],errors = 'coerce')\n"
     ]
    }
   ],
   "source": [
    "column=['Experience','DP_score','Consultation_Fee']\n",
    "\n",
    "for c in column:\n",
    "    df[c] = pd.to_numeric(df[c],errors = 'coerce')"
   ]
  },
  {
   "cell_type": "code",
   "execution_count": 19,
   "id": "d55f6438",
   "metadata": {},
   "outputs": [
    {
     "name": "stdout",
     "output_type": "stream",
     "text": [
      "<class 'pandas.core.frame.DataFrame'>\n",
      "Int64Index: 2710 entries, 0 to 3069\n",
      "Data columns (total 9 columns):\n",
      " #   Column            Non-Null Count  Dtype  \n",
      "---  ------            --------------  -----  \n",
      " 0   name              2710 non-null   object \n",
      " 1   Speciality        2710 non-null   object \n",
      " 2   Experience        2491 non-null   float64\n",
      " 3   Location          2710 non-null   object \n",
      " 4   District          2710 non-null   object \n",
      " 5   DP_score          2710 non-null   int64  \n",
      " 6   Num_of_votes      2710 non-null   float64\n",
      " 7   Consultation_Fee  2707 non-null   float64\n",
      " 8   Degree            2710 non-null   object \n",
      "dtypes: float64(3), int64(1), object(5)\n",
      "memory usage: 211.7+ KB\n"
     ]
    }
   ],
   "source": [
    "df.info()"
   ]
  },
  {
   "cell_type": "code",
   "execution_count": 20,
   "id": "b0419f20",
   "metadata": {},
   "outputs": [
    {
     "data": {
      "text/plain": [
       "name                  0\n",
       "Speciality            0\n",
       "Experience          219\n",
       "Location              0\n",
       "District              0\n",
       "DP_score              0\n",
       "Num_of_votes          0\n",
       "Consultation_Fee      3\n",
       "Degree                0\n",
       "dtype: int64"
      ]
     },
     "execution_count": 20,
     "metadata": {},
     "output_type": "execute_result"
    }
   ],
   "source": [
    "df.isnull().sum()"
   ]
  },
  {
   "cell_type": "code",
   "execution_count": 21,
   "id": "0b5f2e67",
   "metadata": {},
   "outputs": [
    {
     "data": {
      "text/html": [
       "<div>\n",
       "<style scoped>\n",
       "    .dataframe tbody tr th:only-of-type {\n",
       "        vertical-align: middle;\n",
       "    }\n",
       "\n",
       "    .dataframe tbody tr th {\n",
       "        vertical-align: top;\n",
       "    }\n",
       "\n",
       "    .dataframe thead th {\n",
       "        text-align: right;\n",
       "    }\n",
       "</style>\n",
       "<table border=\"1\" class=\"dataframe\">\n",
       "  <thead>\n",
       "    <tr style=\"text-align: right;\">\n",
       "      <th></th>\n",
       "      <th>name</th>\n",
       "      <th>Speciality</th>\n",
       "      <th>Experience</th>\n",
       "      <th>Location</th>\n",
       "      <th>District</th>\n",
       "      <th>DP_score</th>\n",
       "      <th>Num_of_votes</th>\n",
       "      <th>Consultation_Fee</th>\n",
       "      <th>Degree</th>\n",
       "    </tr>\n",
       "  </thead>\n",
       "  <tbody>\n",
       "    <tr>\n",
       "      <th>1159</th>\n",
       "      <td>Dr. Suhas Lele</td>\n",
       "      <td>Dentist</td>\n",
       "      <td>41.0</td>\n",
       "      <td>Mumbai</td>\n",
       "      <td>Prabhadevi</td>\n",
       "      <td>98</td>\n",
       "      <td>29.0</td>\n",
       "      <td>NaN</td>\n",
       "      <td>BDS</td>\n",
       "    </tr>\n",
       "    <tr>\n",
       "      <th>1473</th>\n",
       "      <td>Dr. Harshada Mane</td>\n",
       "      <td>Dentist</td>\n",
       "      <td>NaN</td>\n",
       "      <td>Mumbai</td>\n",
       "      <td>Dadar West</td>\n",
       "      <td>98</td>\n",
       "      <td>162.0</td>\n",
       "      <td>NaN</td>\n",
       "      <td>BDS</td>\n",
       "    </tr>\n",
       "    <tr>\n",
       "      <th>2699</th>\n",
       "      <td>Dr. Meenu Ahuja</td>\n",
       "      <td>Gynecologist/Obstetrician</td>\n",
       "      <td>21.0</td>\n",
       "      <td>Delhi</td>\n",
       "      <td>Lajpat Nagar</td>\n",
       "      <td>99</td>\n",
       "      <td>122.0</td>\n",
       "      <td>NaN</td>\n",
       "      <td>MBBS, DGO, DNB - Obstetrics &amp; Gynecology</td>\n",
       "    </tr>\n",
       "  </tbody>\n",
       "</table>\n",
       "</div>"
      ],
      "text/plain": [
       "                   name                 Speciality  Experience Location  \\\n",
       "1159     Dr. Suhas Lele                    Dentist        41.0   Mumbai   \n",
       "1473  Dr. Harshada Mane                    Dentist         NaN   Mumbai   \n",
       "2699    Dr. Meenu Ahuja  Gynecologist/Obstetrician        21.0    Delhi   \n",
       "\n",
       "          District  DP_score  Num_of_votes  Consultation_Fee  \\\n",
       "1159    Prabhadevi        98          29.0               NaN   \n",
       "1473    Dadar West        98         162.0               NaN   \n",
       "2699  Lajpat Nagar        99         122.0               NaN   \n",
       "\n",
       "                                        Degree  \n",
       "1159                                       BDS  \n",
       "1473                                       BDS  \n",
       "2699  MBBS, DGO, DNB - Obstetrics & Gynecology  "
      ]
     },
     "execution_count": 21,
     "metadata": {},
     "output_type": "execute_result"
    }
   ],
   "source": [
    "df[pd.isnull(df['Consultation_Fee'])]"
   ]
  },
  {
   "cell_type": "code",
   "execution_count": 22,
   "id": "8c1696f2",
   "metadata": {},
   "outputs": [],
   "source": [
    "df=df.dropna()"
   ]
  },
  {
   "cell_type": "markdown",
   "id": "ba9c4024",
   "metadata": {},
   "source": [
    "# Clean DataFrame"
   ]
  },
  {
   "cell_type": "code",
   "execution_count": 23,
   "id": "faac3689",
   "metadata": {
    "scrolled": true
   },
   "outputs": [
    {
     "data": {
      "text/html": [
       "<div>\n",
       "<style scoped>\n",
       "    .dataframe tbody tr th:only-of-type {\n",
       "        vertical-align: middle;\n",
       "    }\n",
       "\n",
       "    .dataframe tbody tr th {\n",
       "        vertical-align: top;\n",
       "    }\n",
       "\n",
       "    .dataframe thead th {\n",
       "        text-align: right;\n",
       "    }\n",
       "</style>\n",
       "<table border=\"1\" class=\"dataframe\">\n",
       "  <thead>\n",
       "    <tr style=\"text-align: right;\">\n",
       "      <th></th>\n",
       "      <th>name</th>\n",
       "      <th>Speciality</th>\n",
       "      <th>Experience</th>\n",
       "      <th>Location</th>\n",
       "      <th>District</th>\n",
       "      <th>DP_score</th>\n",
       "      <th>Num_of_votes</th>\n",
       "      <th>Consultation_Fee</th>\n",
       "      <th>Degree</th>\n",
       "    </tr>\n",
       "  </thead>\n",
       "  <tbody>\n",
       "    <tr>\n",
       "      <th>0</th>\n",
       "      <td>Dr. Shashidhar V.</td>\n",
       "      <td>Orthopedist</td>\n",
       "      <td>18.0</td>\n",
       "      <td>Bangalore</td>\n",
       "      <td>Yelenahalli</td>\n",
       "      <td>96</td>\n",
       "      <td>54.0</td>\n",
       "      <td>1000.0</td>\n",
       "      <td>MBBS, MS - Orthopaedics</td>\n",
       "    </tr>\n",
       "    <tr>\n",
       "      <th>1</th>\n",
       "      <td>Dr. Parameshwara C M</td>\n",
       "      <td>General Surgeon</td>\n",
       "      <td>28.0</td>\n",
       "      <td>Bangalore</td>\n",
       "      <td>HBR Layout</td>\n",
       "      <td>94</td>\n",
       "      <td>105.0</td>\n",
       "      <td>700.0</td>\n",
       "      <td>MBBS, MS - General Surgery</td>\n",
       "    </tr>\n",
       "    <tr>\n",
       "      <th>2</th>\n",
       "      <td>Dr. B A Gopala Krishna</td>\n",
       "      <td>Orthopedist</td>\n",
       "      <td>21.0</td>\n",
       "      <td>Bangalore</td>\n",
       "      <td>Banashankari 2nd Stage</td>\n",
       "      <td>97</td>\n",
       "      <td>29.0</td>\n",
       "      <td>600.0</td>\n",
       "      <td>MBBS, DNB - Orthopedics/Orthopedic Surgery</td>\n",
       "    </tr>\n",
       "    <tr>\n",
       "      <th>3</th>\n",
       "      <td>Dr. Sujay BR</td>\n",
       "      <td>Laparoscopic Surgeon</td>\n",
       "      <td>17.0</td>\n",
       "      <td>Bangalore</td>\n",
       "      <td>Jayanagar</td>\n",
       "      <td>94</td>\n",
       "      <td>34.0</td>\n",
       "      <td>499.0</td>\n",
       "      <td>MBBS, MS - General Surgery</td>\n",
       "    </tr>\n",
       "    <tr>\n",
       "      <th>4</th>\n",
       "      <td>Dr. Ranganath v s</td>\n",
       "      <td>Plastic Surgeon</td>\n",
       "      <td>20.0</td>\n",
       "      <td>Bangalore</td>\n",
       "      <td>HRBR Layout</td>\n",
       "      <td>100</td>\n",
       "      <td>15.0</td>\n",
       "      <td>600.0</td>\n",
       "      <td>MCh - Plastic &amp; Reconstructive Surgery, FNB - ...</td>\n",
       "    </tr>\n",
       "    <tr>\n",
       "      <th>...</th>\n",
       "      <td>...</td>\n",
       "      <td>...</td>\n",
       "      <td>...</td>\n",
       "      <td>...</td>\n",
       "      <td>...</td>\n",
       "      <td>...</td>\n",
       "      <td>...</td>\n",
       "      <td>...</td>\n",
       "      <td>...</td>\n",
       "    </tr>\n",
       "    <tr>\n",
       "      <th>3063</th>\n",
       "      <td>Dr. Anjana Kalia</td>\n",
       "      <td>Dietitian/Nutritionist</td>\n",
       "      <td>21.0</td>\n",
       "      <td>Delhi</td>\n",
       "      <td>Dwarka</td>\n",
       "      <td>99</td>\n",
       "      <td>124.0</td>\n",
       "      <td>1000.0</td>\n",
       "      <td>BAMS, Fellowship in Applied Nutrition(FAN)</td>\n",
       "    </tr>\n",
       "    <tr>\n",
       "      <th>3064</th>\n",
       "      <td>Dr. Rahul Sekhri   (Physiotherapist)</td>\n",
       "      <td>Physiotherapist</td>\n",
       "      <td>13.0</td>\n",
       "      <td>Delhi</td>\n",
       "      <td>Preet Vihar</td>\n",
       "      <td>97</td>\n",
       "      <td>54.0</td>\n",
       "      <td>500.0</td>\n",
       "      <td>BPTh/BPT, Diploma in Diet and Nutrition</td>\n",
       "    </tr>\n",
       "    <tr>\n",
       "      <th>3066</th>\n",
       "      <td>Dr. Hirday Kapoor</td>\n",
       "      <td>Gynecologist/Obstetrician</td>\n",
       "      <td>30.0</td>\n",
       "      <td>Delhi</td>\n",
       "      <td>Punjabi Bagh</td>\n",
       "      <td>78</td>\n",
       "      <td>5.0</td>\n",
       "      <td>1000.0</td>\n",
       "      <td>MBBS, DGO, DNB - Obstetrics &amp; Gynecology</td>\n",
       "    </tr>\n",
       "    <tr>\n",
       "      <th>3067</th>\n",
       "      <td>Dr. Sarita Gulati</td>\n",
       "      <td>Cardiologist</td>\n",
       "      <td>30.0</td>\n",
       "      <td>Delhi</td>\n",
       "      <td>Dwarka Sector 6</td>\n",
       "      <td>37</td>\n",
       "      <td>13.0</td>\n",
       "      <td>1100.0</td>\n",
       "      <td>MBBS, DM - Cardiology</td>\n",
       "    </tr>\n",
       "    <tr>\n",
       "      <th>3069</th>\n",
       "      <td>Dr. Sudhanshu Pandey</td>\n",
       "      <td>Ayurveda</td>\n",
       "      <td>13.0</td>\n",
       "      <td>Delhi</td>\n",
       "      <td>Laxmi Nagar</td>\n",
       "      <td>94</td>\n",
       "      <td>9.0</td>\n",
       "      <td>700.0</td>\n",
       "      <td>BAMS</td>\n",
       "    </tr>\n",
       "  </tbody>\n",
       "</table>\n",
       "<p>2489 rows × 9 columns</p>\n",
       "</div>"
      ],
      "text/plain": [
       "                                      name                 Speciality  \\\n",
       "0                        Dr. Shashidhar V.                Orthopedist   \n",
       "1                     Dr. Parameshwara C M            General Surgeon   \n",
       "2                   Dr. B A Gopala Krishna                Orthopedist   \n",
       "3                             Dr. Sujay BR       Laparoscopic Surgeon   \n",
       "4                        Dr. Ranganath v s            Plastic Surgeon   \n",
       "...                                    ...                        ...   \n",
       "3063                      Dr. Anjana Kalia     Dietitian/Nutritionist   \n",
       "3064  Dr. Rahul Sekhri   (Physiotherapist)            Physiotherapist   \n",
       "3066                     Dr. Hirday Kapoor  Gynecologist/Obstetrician   \n",
       "3067                     Dr. Sarita Gulati               Cardiologist   \n",
       "3069                  Dr. Sudhanshu Pandey                   Ayurveda   \n",
       "\n",
       "      Experience   Location                District  DP_score  Num_of_votes  \\\n",
       "0           18.0  Bangalore             Yelenahalli        96          54.0   \n",
       "1           28.0  Bangalore              HBR Layout        94         105.0   \n",
       "2           21.0  Bangalore  Banashankari 2nd Stage        97          29.0   \n",
       "3           17.0  Bangalore               Jayanagar        94          34.0   \n",
       "4           20.0  Bangalore             HRBR Layout       100          15.0   \n",
       "...          ...        ...                     ...       ...           ...   \n",
       "3063        21.0      Delhi                  Dwarka        99         124.0   \n",
       "3064        13.0      Delhi             Preet Vihar        97          54.0   \n",
       "3066        30.0      Delhi            Punjabi Bagh        78           5.0   \n",
       "3067        30.0      Delhi         Dwarka Sector 6        37          13.0   \n",
       "3069        13.0      Delhi             Laxmi Nagar        94           9.0   \n",
       "\n",
       "      Consultation_Fee                                             Degree  \n",
       "0               1000.0                            MBBS, MS - Orthopaedics  \n",
       "1                700.0                         MBBS, MS - General Surgery  \n",
       "2                600.0         MBBS, DNB - Orthopedics/Orthopedic Surgery  \n",
       "3                499.0                         MBBS, MS - General Surgery  \n",
       "4                600.0  MCh - Plastic & Reconstructive Surgery, FNB - ...  \n",
       "...                ...                                                ...  \n",
       "3063            1000.0         BAMS, Fellowship in Applied Nutrition(FAN)  \n",
       "3064             500.0            BPTh/BPT, Diploma in Diet and Nutrition  \n",
       "3066            1000.0           MBBS, DGO, DNB - Obstetrics & Gynecology  \n",
       "3067            1100.0                              MBBS, DM - Cardiology  \n",
       "3069             700.0                                               BAMS  \n",
       "\n",
       "[2489 rows x 9 columns]"
      ]
     },
     "execution_count": 23,
     "metadata": {},
     "output_type": "execute_result"
    }
   ],
   "source": [
    "df"
   ]
  },
  {
   "cell_type": "code",
   "execution_count": 24,
   "id": "9ef97b70",
   "metadata": {},
   "outputs": [
    {
     "data": {
      "text/plain": [
       "(2489, 9)"
      ]
     },
     "execution_count": 24,
     "metadata": {},
     "output_type": "execute_result"
    }
   ],
   "source": [
    "df.shape"
   ]
  },
  {
   "cell_type": "code",
   "execution_count": 25,
   "id": "20b47fd3",
   "metadata": {},
   "outputs": [
    {
     "data": {
      "text/plain": [
       "Index(['name', 'Speciality', 'Experience', 'Location', 'District', 'DP_score',\n",
       "       'Num_of_votes', 'Consultation_Fee', 'Degree'],\n",
       "      dtype='object')"
      ]
     },
     "execution_count": 25,
     "metadata": {},
     "output_type": "execute_result"
    }
   ],
   "source": [
    "df.columns"
   ]
  },
  {
   "cell_type": "markdown",
   "id": "6883693a",
   "metadata": {},
   "source": [
    "# EDA"
   ]
  },
  {
   "cell_type": "code",
   "execution_count": 35,
   "id": "1797ce22",
   "metadata": {},
   "outputs": [
    {
     "data": {
      "text/plain": [
       "Index(['name', 'Speciality', 'Experience', 'Location', 'District', 'DP_score',\n",
       "       'Num_of_votes', 'Consultation_Fee', 'Degree'],\n",
       "      dtype='object')"
      ]
     },
     "execution_count": 35,
     "metadata": {},
     "output_type": "execute_result"
    }
   ],
   "source": [
    "df.columns"
   ]
  },
  {
   "cell_type": "code",
   "execution_count": 36,
   "id": "a2b56bb2",
   "metadata": {},
   "outputs": [],
   "source": [
    "numerical_columns=[]\n",
    "categorical_columns=[]\n",
    "\n",
    "for col in df.columns:\n",
    "    if df[col].dtype=='object':\n",
    "        categorical_columns.append(col)\n",
    "    else:\n",
    "        numerical_columns.append(col)"
   ]
  },
  {
   "cell_type": "code",
   "execution_count": 37,
   "id": "31f19114",
   "metadata": {},
   "outputs": [
    {
     "data": {
      "text/plain": [
       "['Experience', 'DP_score', 'Num_of_votes', 'Consultation_Fee']"
      ]
     },
     "execution_count": 37,
     "metadata": {},
     "output_type": "execute_result"
    }
   ],
   "source": [
    "numerical_columns"
   ]
  },
  {
   "cell_type": "code",
   "execution_count": 38,
   "id": "856f39cb",
   "metadata": {},
   "outputs": [
    {
     "data": {
      "text/plain": [
       "['name', 'Speciality', 'Location', 'District', 'Degree']"
      ]
     },
     "execution_count": 38,
     "metadata": {},
     "output_type": "execute_result"
    }
   ],
   "source": [
    "categorical_columns"
   ]
  },
  {
   "cell_type": "code",
   "execution_count": 39,
   "id": "ce650863",
   "metadata": {},
   "outputs": [
    {
     "name": "stdout",
     "output_type": "stream",
     "text": [
      "<class 'pandas.core.frame.DataFrame'>\n",
      "Int64Index: 2489 entries, 0 to 3069\n",
      "Data columns (total 9 columns):\n",
      " #   Column            Non-Null Count  Dtype  \n",
      "---  ------            --------------  -----  \n",
      " 0   name              2489 non-null   object \n",
      " 1   Speciality        2489 non-null   object \n",
      " 2   Experience        2489 non-null   float64\n",
      " 3   Location          2489 non-null   object \n",
      " 4   District          2489 non-null   object \n",
      " 5   DP_score          2489 non-null   int64  \n",
      " 6   Num_of_votes      2489 non-null   float64\n",
      " 7   Consultation_Fee  2489 non-null   float64\n",
      " 8   Degree            2489 non-null   object \n",
      "dtypes: float64(3), int64(1), object(5)\n",
      "memory usage: 194.5+ KB\n"
     ]
    }
   ],
   "source": [
    "df.info()"
   ]
  },
  {
   "cell_type": "code",
   "execution_count": 40,
   "id": "6f8e0796",
   "metadata": {},
   "outputs": [
    {
     "data": {
      "text/plain": [
       "<AxesSubplot:>"
      ]
     },
     "execution_count": 40,
     "metadata": {},
     "output_type": "execute_result"
    },
    {
     "data": {
      "image/png": "[encoded data removed]",
      "text/plain": [
       "<Figure size 432x288 with 2 Axes>"
      ]
     },
     "metadata": {
      "needs_background": "light"
     },
     "output_type": "display_data"
    }
   ],
   "source": [
    "sns.heatmap(df.corr(), annot=True)"
   ]
  },
  {
   "cell_type": "markdown",
   "id": "d18fd58e",
   "metadata": {},
   "source": [
    "Max correlation can be seen bn Experience and Consultation fee"
   ]
  },
  {
   "cell_type": "markdown",
   "id": "bcefcb77",
   "metadata": {},
   "source": [
    "# outlier Analysis"
   ]
  },
  {
   "cell_type": "code",
   "execution_count": 41,
   "id": "43110018",
   "metadata": {},
   "outputs": [
    {
     "data": {
      "image/png": "[encoded data removed]",
      "text/plain": [
       "<Figure size 432x288 with 1 Axes>"
      ]
     },
     "metadata": {
      "needs_background": "light"
     },
     "output_type": "display_data"
    },
    {
     "data": {
      "image/png": "[encoded data removed]",
      "text/plain": [
       "<Figure size 432x288 with 1 Axes>"
      ]
     },
     "metadata": {
      "needs_background": "light"
     },
     "output_type": "display_data"
    },
    {
     "data": {
      "image/png": "[encoded data removed]",
      "text/plain": [
       "<Figure size 432x288 with 1 Axes>"
      ]
     },
     "metadata": {
      "needs_background": "light"
     },
     "output_type": "display_data"
    },
    {
     "data": {
      "image/png": "[encoded data removed]",
      "text/plain": [
       "<Figure size 432x288 with 1 Axes>"
      ]
     },
     "metadata": {
      "needs_background": "light"
     },
     "output_type": "display_data"
    }
   ],
   "source": [
    "for c in numerical_columns:\n",
    "  percentile25=df[c].quantile(0.25)\n",
    "  percentile75=df[c].quantile(0.75)\n",
    "  iqr=percentile75-percentile25\n",
    "  upper_limit=percentile75+(1.5*iqr)\n",
    "  lower_limit=percentile25-(1.5*iqr)\n",
    "  df=df[(df[c]<upper_limit) & (df[c]>lower_limit)]\n",
    "  plt.figure()\n",
    "  sns.boxplot(y=c, data=df)"
   ]
  },
  {
   "cell_type": "code",
   "execution_count": 42,
   "id": "5f0dcc0e",
   "metadata": {},
   "outputs": [
    {
     "data": {
      "text/html": [
       "<div>\n",
       "<style scoped>\n",
       "    .dataframe tbody tr th:only-of-type {\n",
       "        vertical-align: middle;\n",
       "    }\n",
       "\n",
       "    .dataframe tbody tr th {\n",
       "        vertical-align: top;\n",
       "    }\n",
       "\n",
       "    .dataframe thead th {\n",
       "        text-align: right;\n",
       "    }\n",
       "</style>\n",
       "<table border=\"1\" class=\"dataframe\">\n",
       "  <thead>\n",
       "    <tr style=\"text-align: right;\">\n",
       "      <th></th>\n",
       "      <th>Experience</th>\n",
       "      <th>DP_score</th>\n",
       "      <th>Num_of_votes</th>\n",
       "      <th>Consultation_Fee</th>\n",
       "    </tr>\n",
       "  </thead>\n",
       "  <tbody>\n",
       "    <tr>\n",
       "      <th>count</th>\n",
       "      <td>1905.000000</td>\n",
       "      <td>1905.000000</td>\n",
       "      <td>1905.000000</td>\n",
       "      <td>1905.000000</td>\n",
       "    </tr>\n",
       "    <tr>\n",
       "      <th>mean</th>\n",
       "      <td>20.613648</td>\n",
       "      <td>96.047769</td>\n",
       "      <td>58.454593</td>\n",
       "      <td>772.007349</td>\n",
       "    </tr>\n",
       "    <tr>\n",
       "      <th>std</th>\n",
       "      <td>8.137592</td>\n",
       "      <td>4.624143</td>\n",
       "      <td>59.476349</td>\n",
       "      <td>334.959062</td>\n",
       "    </tr>\n",
       "    <tr>\n",
       "      <th>min</th>\n",
       "      <td>10.000000</td>\n",
       "      <td>81.000000</td>\n",
       "      <td>1.000000</td>\n",
       "      <td>50.000000</td>\n",
       "    </tr>\n",
       "    <tr>\n",
       "      <th>25%</th>\n",
       "      <td>14.000000</td>\n",
       "      <td>94.000000</td>\n",
       "      <td>12.000000</td>\n",
       "      <td>500.000000</td>\n",
       "    </tr>\n",
       "    <tr>\n",
       "      <th>50%</th>\n",
       "      <td>19.000000</td>\n",
       "      <td>98.000000</td>\n",
       "      <td>36.000000</td>\n",
       "      <td>740.000000</td>\n",
       "    </tr>\n",
       "    <tr>\n",
       "      <th>75%</th>\n",
       "      <td>25.000000</td>\n",
       "      <td>100.000000</td>\n",
       "      <td>88.000000</td>\n",
       "      <td>1000.000000</td>\n",
       "    </tr>\n",
       "    <tr>\n",
       "      <th>max</th>\n",
       "      <td>44.000000</td>\n",
       "      <td>100.000000</td>\n",
       "      <td>255.000000</td>\n",
       "      <td>1700.000000</td>\n",
       "    </tr>\n",
       "  </tbody>\n",
       "</table>\n",
       "</div>"
      ],
      "text/plain": [
       "        Experience     DP_score  Num_of_votes  Consultation_Fee\n",
       "count  1905.000000  1905.000000   1905.000000       1905.000000\n",
       "mean     20.613648    96.047769     58.454593        772.007349\n",
       "std       8.137592     4.624143     59.476349        334.959062\n",
       "min      10.000000    81.000000      1.000000         50.000000\n",
       "25%      14.000000    94.000000     12.000000        500.000000\n",
       "50%      19.000000    98.000000     36.000000        740.000000\n",
       "75%      25.000000   100.000000     88.000000       1000.000000\n",
       "max      44.000000   100.000000    255.000000       1700.000000"
      ]
     },
     "execution_count": 42,
     "metadata": {},
     "output_type": "execute_result"
    }
   ],
   "source": [
    "df.describe()"
   ]
  },
  {
   "cell_type": "code",
   "execution_count": 43,
   "id": "35832858",
   "metadata": {},
   "outputs": [
    {
     "data": {
      "text/plain": [
       "(1905, 9)"
      ]
     },
     "execution_count": 43,
     "metadata": {},
     "output_type": "execute_result"
    }
   ],
   "source": [
    "df.shape"
   ]
  },
  {
   "cell_type": "markdown",
   "id": "d4bcf47c",
   "metadata": {},
   "source": [
    "# Model Building"
   ]
  },
  {
   "cell_type": "markdown",
   "id": "63dda724",
   "metadata": {},
   "source": [
    "## Label encoding"
   ]
  },
  {
   "cell_type": "code",
   "execution_count": 44,
   "id": "b604c0bf",
   "metadata": {},
   "outputs": [],
   "source": [
    "le=LabelEncoder()"
   ]
  },
  {
   "cell_type": "code",
   "execution_count": 45,
   "id": "1036c00c",
   "metadata": {
    "scrolled": true
   },
   "outputs": [
    {
     "data": {
      "text/html": [
       "<div>\n",
       "<style scoped>\n",
       "    .dataframe tbody tr th:only-of-type {\n",
       "        vertical-align: middle;\n",
       "    }\n",
       "\n",
       "    .dataframe tbody tr th {\n",
       "        vertical-align: top;\n",
       "    }\n",
       "\n",
       "    .dataframe thead th {\n",
       "        text-align: right;\n",
       "    }\n",
       "</style>\n",
       "<table border=\"1\" class=\"dataframe\">\n",
       "  <thead>\n",
       "    <tr style=\"text-align: right;\">\n",
       "      <th></th>\n",
       "      <th>name</th>\n",
       "      <th>Speciality</th>\n",
       "      <th>Experience</th>\n",
       "      <th>Location</th>\n",
       "      <th>District</th>\n",
       "      <th>DP_score</th>\n",
       "      <th>Num_of_votes</th>\n",
       "      <th>Consultation_Fee</th>\n",
       "      <th>Degree</th>\n",
       "    </tr>\n",
       "  </thead>\n",
       "  <tbody>\n",
       "    <tr>\n",
       "      <th>0</th>\n",
       "      <td>Dr. Shashidhar V.</td>\n",
       "      <td>Orthopedist</td>\n",
       "      <td>18.0</td>\n",
       "      <td>Bangalore</td>\n",
       "      <td>Yelenahalli</td>\n",
       "      <td>96</td>\n",
       "      <td>54.0</td>\n",
       "      <td>1000.0</td>\n",
       "      <td>MBBS, MS - Orthopaedics</td>\n",
       "    </tr>\n",
       "    <tr>\n",
       "      <th>1</th>\n",
       "      <td>Dr. Parameshwara C M</td>\n",
       "      <td>General Surgeon</td>\n",
       "      <td>28.0</td>\n",
       "      <td>Bangalore</td>\n",
       "      <td>HBR Layout</td>\n",
       "      <td>94</td>\n",
       "      <td>105.0</td>\n",
       "      <td>700.0</td>\n",
       "      <td>MBBS, MS - General Surgery</td>\n",
       "    </tr>\n",
       "    <tr>\n",
       "      <th>2</th>\n",
       "      <td>Dr. B A Gopala Krishna</td>\n",
       "      <td>Orthopedist</td>\n",
       "      <td>21.0</td>\n",
       "      <td>Bangalore</td>\n",
       "      <td>Banashankari 2nd Stage</td>\n",
       "      <td>97</td>\n",
       "      <td>29.0</td>\n",
       "      <td>600.0</td>\n",
       "      <td>MBBS, DNB - Orthopedics/Orthopedic Surgery</td>\n",
       "    </tr>\n",
       "    <tr>\n",
       "      <th>3</th>\n",
       "      <td>Dr. Sujay BR</td>\n",
       "      <td>Laparoscopic Surgeon</td>\n",
       "      <td>17.0</td>\n",
       "      <td>Bangalore</td>\n",
       "      <td>Jayanagar</td>\n",
       "      <td>94</td>\n",
       "      <td>34.0</td>\n",
       "      <td>499.0</td>\n",
       "      <td>MBBS, MS - General Surgery</td>\n",
       "    </tr>\n",
       "    <tr>\n",
       "      <th>4</th>\n",
       "      <td>Dr. Ranganath v s</td>\n",
       "      <td>Plastic Surgeon</td>\n",
       "      <td>20.0</td>\n",
       "      <td>Bangalore</td>\n",
       "      <td>HRBR Layout</td>\n",
       "      <td>100</td>\n",
       "      <td>15.0</td>\n",
       "      <td>600.0</td>\n",
       "      <td>MCh - Plastic &amp; Reconstructive Surgery, FNB - ...</td>\n",
       "    </tr>\n",
       "    <tr>\n",
       "      <th>...</th>\n",
       "      <td>...</td>\n",
       "      <td>...</td>\n",
       "      <td>...</td>\n",
       "      <td>...</td>\n",
       "      <td>...</td>\n",
       "      <td>...</td>\n",
       "      <td>...</td>\n",
       "      <td>...</td>\n",
       "      <td>...</td>\n",
       "    </tr>\n",
       "    <tr>\n",
       "      <th>3061</th>\n",
       "      <td>Dr. Saakshi Dhingra   (Physiotherapist)</td>\n",
       "      <td>Physiotherapist</td>\n",
       "      <td>16.0</td>\n",
       "      <td>Delhi</td>\n",
       "      <td>CR Park</td>\n",
       "      <td>99</td>\n",
       "      <td>158.0</td>\n",
       "      <td>700.0</td>\n",
       "      <td>BPTh/BPT, MPTh/MPT - Musculoskeletal Physiothe...</td>\n",
       "    </tr>\n",
       "    <tr>\n",
       "      <th>3062</th>\n",
       "      <td>Dr. Nidhi Bansal Gupta</td>\n",
       "      <td>Gynecologist/Obstetrician</td>\n",
       "      <td>12.0</td>\n",
       "      <td>Delhi</td>\n",
       "      <td>Prashant Vihar</td>\n",
       "      <td>100</td>\n",
       "      <td>50.0</td>\n",
       "      <td>600.0</td>\n",
       "      <td>MBBS, MS - Obstetrics &amp; Gynaecology</td>\n",
       "    </tr>\n",
       "    <tr>\n",
       "      <th>3063</th>\n",
       "      <td>Dr. Anjana Kalia</td>\n",
       "      <td>Dietitian/Nutritionist</td>\n",
       "      <td>21.0</td>\n",
       "      <td>Delhi</td>\n",
       "      <td>Dwarka</td>\n",
       "      <td>99</td>\n",
       "      <td>124.0</td>\n",
       "      <td>1000.0</td>\n",
       "      <td>BAMS, Fellowship in Applied Nutrition(FAN)</td>\n",
       "    </tr>\n",
       "    <tr>\n",
       "      <th>3064</th>\n",
       "      <td>Dr. Rahul Sekhri   (Physiotherapist)</td>\n",
       "      <td>Physiotherapist</td>\n",
       "      <td>13.0</td>\n",
       "      <td>Delhi</td>\n",
       "      <td>Preet Vihar</td>\n",
       "      <td>97</td>\n",
       "      <td>54.0</td>\n",
       "      <td>500.0</td>\n",
       "      <td>BPTh/BPT, Diploma in Diet and Nutrition</td>\n",
       "    </tr>\n",
       "    <tr>\n",
       "      <th>3069</th>\n",
       "      <td>Dr. Sudhanshu Pandey</td>\n",
       "      <td>Ayurveda</td>\n",
       "      <td>13.0</td>\n",
       "      <td>Delhi</td>\n",
       "      <td>Laxmi Nagar</td>\n",
       "      <td>94</td>\n",
       "      <td>9.0</td>\n",
       "      <td>700.0</td>\n",
       "      <td>BAMS</td>\n",
       "    </tr>\n",
       "  </tbody>\n",
       "</table>\n",
       "<p>1905 rows × 9 columns</p>\n",
       "</div>"
      ],
      "text/plain": [
       "                                         name                 Speciality  \\\n",
       "0                           Dr. Shashidhar V.                Orthopedist   \n",
       "1                        Dr. Parameshwara C M            General Surgeon   \n",
       "2                      Dr. B A Gopala Krishna                Orthopedist   \n",
       "3                                Dr. Sujay BR       Laparoscopic Surgeon   \n",
       "4                           Dr. Ranganath v s            Plastic Surgeon   \n",
       "...                                       ...                        ...   \n",
       "3061  Dr. Saakshi Dhingra   (Physiotherapist)            Physiotherapist   \n",
       "3062                   Dr. Nidhi Bansal Gupta  Gynecologist/Obstetrician   \n",
       "3063                         Dr. Anjana Kalia     Dietitian/Nutritionist   \n",
       "3064     Dr. Rahul Sekhri   (Physiotherapist)            Physiotherapist   \n",
       "3069                     Dr. Sudhanshu Pandey                   Ayurveda   \n",
       "\n",
       "      Experience   Location                District  DP_score  Num_of_votes  \\\n",
       "0           18.0  Bangalore             Yelenahalli        96          54.0   \n",
       "1           28.0  Bangalore              HBR Layout        94         105.0   \n",
       "2           21.0  Bangalore  Banashankari 2nd Stage        97          29.0   \n",
       "3           17.0  Bangalore               Jayanagar        94          34.0   \n",
       "4           20.0  Bangalore             HRBR Layout       100          15.0   \n",
       "...          ...        ...                     ...       ...           ...   \n",
       "3061        16.0      Delhi                 CR Park        99         158.0   \n",
       "3062        12.0      Delhi          Prashant Vihar       100          50.0   \n",
       "3063        21.0      Delhi                  Dwarka        99         124.0   \n",
       "3064        13.0      Delhi             Preet Vihar        97          54.0   \n",
       "3069        13.0      Delhi             Laxmi Nagar        94           9.0   \n",
       "\n",
       "      Consultation_Fee                                             Degree  \n",
       "0               1000.0                            MBBS, MS - Orthopaedics  \n",
       "1                700.0                         MBBS, MS - General Surgery  \n",
       "2                600.0         MBBS, DNB - Orthopedics/Orthopedic Surgery  \n",
       "3                499.0                         MBBS, MS - General Surgery  \n",
       "4                600.0  MCh - Plastic & Reconstructive Surgery, FNB - ...  \n",
       "...                ...                                                ...  \n",
       "3061             700.0  BPTh/BPT, MPTh/MPT - Musculoskeletal Physiothe...  \n",
       "3062             600.0                MBBS, MS - Obstetrics & Gynaecology  \n",
       "3063            1000.0         BAMS, Fellowship in Applied Nutrition(FAN)  \n",
       "3064             500.0            BPTh/BPT, Diploma in Diet and Nutrition  \n",
       "3069             700.0                                               BAMS  \n",
       "\n",
       "[1905 rows x 9 columns]"
      ]
     },
     "execution_count": 45,
     "metadata": {},
     "output_type": "execute_result"
    }
   ],
   "source": [
    "df"
   ]
  },
  {
   "cell_type": "code",
   "execution_count": 46,
   "id": "2bd04ab1",
   "metadata": {},
   "outputs": [
    {
     "data": {
      "text/plain": [
       "['Experience', 'DP_score', 'Num_of_votes', 'Consultation_Fee']"
      ]
     },
     "execution_count": 46,
     "metadata": {},
     "output_type": "execute_result"
    }
   ],
   "source": [
    "numerical_columns"
   ]
  },
  {
   "cell_type": "code",
   "execution_count": 47,
   "id": "b8d0d83c",
   "metadata": {},
   "outputs": [
    {
     "data": {
      "text/plain": [
       "['name', 'Speciality', 'Location', 'District', 'Degree']"
      ]
     },
     "execution_count": 47,
     "metadata": {},
     "output_type": "execute_result"
    }
   ],
   "source": [
    "categorical_columns"
   ]
  },
  {
   "cell_type": "code",
   "execution_count": 48,
   "id": "5203cd3b",
   "metadata": {},
   "outputs": [],
   "source": [
    "le=LabelEncoder()"
   ]
  },
  {
   "cell_type": "code",
   "execution_count": 49,
   "id": "297b2182",
   "metadata": {},
   "outputs": [],
   "source": [
    "for c in categorical_columns:\n",
    "  df[c]=le.fit_transform(df[c])"
   ]
  },
  {
   "cell_type": "code",
   "execution_count": 50,
   "id": "7ab57a22",
   "metadata": {
    "scrolled": true
   },
   "outputs": [
    {
     "data": {
      "text/html": [
       "<div>\n",
       "<style scoped>\n",
       "    .dataframe tbody tr th:only-of-type {\n",
       "        vertical-align: middle;\n",
       "    }\n",
       "\n",
       "    .dataframe tbody tr th {\n",
       "        vertical-align: top;\n",
       "    }\n",
       "\n",
       "    .dataframe thead th {\n",
       "        text-align: right;\n",
       "    }\n",
       "</style>\n",
       "<table border=\"1\" class=\"dataframe\">\n",
       "  <thead>\n",
       "    <tr style=\"text-align: right;\">\n",
       "      <th></th>\n",
       "      <th>name</th>\n",
       "      <th>Speciality</th>\n",
       "      <th>Experience</th>\n",
       "      <th>Location</th>\n",
       "      <th>District</th>\n",
       "      <th>DP_score</th>\n",
       "      <th>Num_of_votes</th>\n",
       "      <th>Consultation_Fee</th>\n",
       "      <th>Degree</th>\n",
       "    </tr>\n",
       "  </thead>\n",
       "  <tbody>\n",
       "    <tr>\n",
       "      <th>0</th>\n",
       "      <td>1418</td>\n",
       "      <td>37</td>\n",
       "      <td>18.0</td>\n",
       "      <td>0</td>\n",
       "      <td>322</td>\n",
       "      <td>96</td>\n",
       "      <td>54.0</td>\n",
       "      <td>1000.0</td>\n",
       "      <td>437</td>\n",
       "    </tr>\n",
       "    <tr>\n",
       "      <th>1</th>\n",
       "      <td>920</td>\n",
       "      <td>22</td>\n",
       "      <td>28.0</td>\n",
       "      <td>0</td>\n",
       "      <td>96</td>\n",
       "      <td>94</td>\n",
       "      <td>105.0</td>\n",
       "      <td>700.0</td>\n",
       "      <td>382</td>\n",
       "    </tr>\n",
       "    <tr>\n",
       "      <th>2</th>\n",
       "      <td>253</td>\n",
       "      <td>37</td>\n",
       "      <td>21.0</td>\n",
       "      <td>0</td>\n",
       "      <td>15</td>\n",
       "      <td>97</td>\n",
       "      <td>29.0</td>\n",
       "      <td>600.0</td>\n",
       "      <td>213</td>\n",
       "    </tr>\n",
       "    <tr>\n",
       "      <th>3</th>\n",
       "      <td>1588</td>\n",
       "      <td>30</td>\n",
       "      <td>17.0</td>\n",
       "      <td>0</td>\n",
       "      <td>124</td>\n",
       "      <td>94</td>\n",
       "      <td>34.0</td>\n",
       "      <td>499.0</td>\n",
       "      <td>382</td>\n",
       "    </tr>\n",
       "    <tr>\n",
       "      <th>4</th>\n",
       "      <td>1164</td>\n",
       "      <td>45</td>\n",
       "      <td>20.0</td>\n",
       "      <td>0</td>\n",
       "      <td>97</td>\n",
       "      <td>100</td>\n",
       "      <td>15.0</td>\n",
       "      <td>600.0</td>\n",
       "      <td>460</td>\n",
       "    </tr>\n",
       "    <tr>\n",
       "      <th>...</th>\n",
       "      <td>...</td>\n",
       "      <td>...</td>\n",
       "      <td>...</td>\n",
       "      <td>...</td>\n",
       "      <td>...</td>\n",
       "      <td>...</td>\n",
       "      <td>...</td>\n",
       "      <td>...</td>\n",
       "      <td>...</td>\n",
       "    </tr>\n",
       "    <tr>\n",
       "      <th>3061</th>\n",
       "      <td>1253</td>\n",
       "      <td>44</td>\n",
       "      <td>16.0</td>\n",
       "      <td>1</td>\n",
       "      <td>36</td>\n",
       "      <td>99</td>\n",
       "      <td>158.0</td>\n",
       "      <td>700.0</td>\n",
       "      <td>73</td>\n",
       "    </tr>\n",
       "    <tr>\n",
       "      <th>3062</th>\n",
       "      <td>859</td>\n",
       "      <td>23</td>\n",
       "      <td>12.0</td>\n",
       "      <td>1</td>\n",
       "      <td>240</td>\n",
       "      <td>100</td>\n",
       "      <td>50.0</td>\n",
       "      <td>600.0</td>\n",
       "      <td>420</td>\n",
       "    </tr>\n",
       "    <tr>\n",
       "      <th>3063</th>\n",
       "      <td>138</td>\n",
       "      <td>12</td>\n",
       "      <td>21.0</td>\n",
       "      <td>1</td>\n",
       "      <td>64</td>\n",
       "      <td>99</td>\n",
       "      <td>124.0</td>\n",
       "      <td>1000.0</td>\n",
       "      <td>5</td>\n",
       "    </tr>\n",
       "    <tr>\n",
       "      <th>3064</th>\n",
       "      <td>1099</td>\n",
       "      <td>44</td>\n",
       "      <td>13.0</td>\n",
       "      <td>1</td>\n",
       "      <td>241</td>\n",
       "      <td>97</td>\n",
       "      <td>54.0</td>\n",
       "      <td>500.0</td>\n",
       "      <td>70</td>\n",
       "    </tr>\n",
       "    <tr>\n",
       "      <th>3069</th>\n",
       "      <td>1570</td>\n",
       "      <td>2</td>\n",
       "      <td>13.0</td>\n",
       "      <td>1</td>\n",
       "      <td>176</td>\n",
       "      <td>94</td>\n",
       "      <td>9.0</td>\n",
       "      <td>700.0</td>\n",
       "      <td>1</td>\n",
       "    </tr>\n",
       "  </tbody>\n",
       "</table>\n",
       "<p>1905 rows × 9 columns</p>\n",
       "</div>"
      ],
      "text/plain": [
       "      name  Speciality  Experience  Location  District  DP_score  \\\n",
       "0     1418          37        18.0         0       322        96   \n",
       "1      920          22        28.0         0        96        94   \n",
       "2      253          37        21.0         0        15        97   \n",
       "3     1588          30        17.0         0       124        94   \n",
       "4     1164          45        20.0         0        97       100   \n",
       "...    ...         ...         ...       ...       ...       ...   \n",
       "3061  1253          44        16.0         1        36        99   \n",
       "3062   859          23        12.0         1       240       100   \n",
       "3063   138          12        21.0         1        64        99   \n",
       "3064  1099          44        13.0         1       241        97   \n",
       "3069  1570           2        13.0         1       176        94   \n",
       "\n",
       "      Num_of_votes  Consultation_Fee  Degree  \n",
       "0             54.0            1000.0     437  \n",
       "1            105.0             700.0     382  \n",
       "2             29.0             600.0     213  \n",
       "3             34.0             499.0     382  \n",
       "4             15.0             600.0     460  \n",
       "...            ...               ...     ...  \n",
       "3061         158.0             700.0      73  \n",
       "3062          50.0             600.0     420  \n",
       "3063         124.0            1000.0       5  \n",
       "3064          54.0             500.0      70  \n",
       "3069           9.0             700.0       1  \n",
       "\n",
       "[1905 rows x 9 columns]"
      ]
     },
     "execution_count": 50,
     "metadata": {},
     "output_type": "execute_result"
    }
   ],
   "source": [
    "df"
   ]
  },
  {
   "cell_type": "code",
   "execution_count": 51,
   "id": "eac99059",
   "metadata": {},
   "outputs": [],
   "source": [
    "df.drop(['name'],axis=1, inplace= True)"
   ]
  },
  {
   "cell_type": "code",
   "execution_count": 52,
   "id": "29e6dde4",
   "metadata": {},
   "outputs": [
    {
     "data": {
      "text/html": [
       "<div>\n",
       "<style scoped>\n",
       "    .dataframe tbody tr th:only-of-type {\n",
       "        vertical-align: middle;\n",
       "    }\n",
       "\n",
       "    .dataframe tbody tr th {\n",
       "        vertical-align: top;\n",
       "    }\n",
       "\n",
       "    .dataframe thead th {\n",
       "        text-align: right;\n",
       "    }\n",
       "</style>\n",
       "<table border=\"1\" class=\"dataframe\">\n",
       "  <thead>\n",
       "    <tr style=\"text-align: right;\">\n",
       "      <th></th>\n",
       "      <th>Speciality</th>\n",
       "      <th>Experience</th>\n",
       "      <th>Location</th>\n",
       "      <th>District</th>\n",
       "      <th>DP_score</th>\n",
       "      <th>Num_of_votes</th>\n",
       "      <th>Consultation_Fee</th>\n",
       "      <th>Degree</th>\n",
       "    </tr>\n",
       "  </thead>\n",
       "  <tbody>\n",
       "    <tr>\n",
       "      <th>0</th>\n",
       "      <td>37</td>\n",
       "      <td>18.0</td>\n",
       "      <td>0</td>\n",
       "      <td>322</td>\n",
       "      <td>96</td>\n",
       "      <td>54.0</td>\n",
       "      <td>1000.0</td>\n",
       "      <td>437</td>\n",
       "    </tr>\n",
       "    <tr>\n",
       "      <th>1</th>\n",
       "      <td>22</td>\n",
       "      <td>28.0</td>\n",
       "      <td>0</td>\n",
       "      <td>96</td>\n",
       "      <td>94</td>\n",
       "      <td>105.0</td>\n",
       "      <td>700.0</td>\n",
       "      <td>382</td>\n",
       "    </tr>\n",
       "    <tr>\n",
       "      <th>2</th>\n",
       "      <td>37</td>\n",
       "      <td>21.0</td>\n",
       "      <td>0</td>\n",
       "      <td>15</td>\n",
       "      <td>97</td>\n",
       "      <td>29.0</td>\n",
       "      <td>600.0</td>\n",
       "      <td>213</td>\n",
       "    </tr>\n",
       "    <tr>\n",
       "      <th>3</th>\n",
       "      <td>30</td>\n",
       "      <td>17.0</td>\n",
       "      <td>0</td>\n",
       "      <td>124</td>\n",
       "      <td>94</td>\n",
       "      <td>34.0</td>\n",
       "      <td>499.0</td>\n",
       "      <td>382</td>\n",
       "    </tr>\n",
       "    <tr>\n",
       "      <th>4</th>\n",
       "      <td>45</td>\n",
       "      <td>20.0</td>\n",
       "      <td>0</td>\n",
       "      <td>97</td>\n",
       "      <td>100</td>\n",
       "      <td>15.0</td>\n",
       "      <td>600.0</td>\n",
       "      <td>460</td>\n",
       "    </tr>\n",
       "    <tr>\n",
       "      <th>...</th>\n",
       "      <td>...</td>\n",
       "      <td>...</td>\n",
       "      <td>...</td>\n",
       "      <td>...</td>\n",
       "      <td>...</td>\n",
       "      <td>...</td>\n",
       "      <td>...</td>\n",
       "      <td>...</td>\n",
       "    </tr>\n",
       "    <tr>\n",
       "      <th>3061</th>\n",
       "      <td>44</td>\n",
       "      <td>16.0</td>\n",
       "      <td>1</td>\n",
       "      <td>36</td>\n",
       "      <td>99</td>\n",
       "      <td>158.0</td>\n",
       "      <td>700.0</td>\n",
       "      <td>73</td>\n",
       "    </tr>\n",
       "    <tr>\n",
       "      <th>3062</th>\n",
       "      <td>23</td>\n",
       "      <td>12.0</td>\n",
       "      <td>1</td>\n",
       "      <td>240</td>\n",
       "      <td>100</td>\n",
       "      <td>50.0</td>\n",
       "      <td>600.0</td>\n",
       "      <td>420</td>\n",
       "    </tr>\n",
       "    <tr>\n",
       "      <th>3063</th>\n",
       "      <td>12</td>\n",
       "      <td>21.0</td>\n",
       "      <td>1</td>\n",
       "      <td>64</td>\n",
       "      <td>99</td>\n",
       "      <td>124.0</td>\n",
       "      <td>1000.0</td>\n",
       "      <td>5</td>\n",
       "    </tr>\n",
       "    <tr>\n",
       "      <th>3064</th>\n",
       "      <td>44</td>\n",
       "      <td>13.0</td>\n",
       "      <td>1</td>\n",
       "      <td>241</td>\n",
       "      <td>97</td>\n",
       "      <td>54.0</td>\n",
       "      <td>500.0</td>\n",
       "      <td>70</td>\n",
       "    </tr>\n",
       "    <tr>\n",
       "      <th>3069</th>\n",
       "      <td>2</td>\n",
       "      <td>13.0</td>\n",
       "      <td>1</td>\n",
       "      <td>176</td>\n",
       "      <td>94</td>\n",
       "      <td>9.0</td>\n",
       "      <td>700.0</td>\n",
       "      <td>1</td>\n",
       "    </tr>\n",
       "  </tbody>\n",
       "</table>\n",
       "<p>1905 rows × 8 columns</p>\n",
       "</div>"
      ],
      "text/plain": [
       "      Speciality  Experience  Location  District  DP_score  Num_of_votes  \\\n",
       "0             37        18.0         0       322        96          54.0   \n",
       "1             22        28.0         0        96        94         105.0   \n",
       "2             37        21.0         0        15        97          29.0   \n",
       "3             30        17.0         0       124        94          34.0   \n",
       "4             45        20.0         0        97       100          15.0   \n",
       "...          ...         ...       ...       ...       ...           ...   \n",
       "3061          44        16.0         1        36        99         158.0   \n",
       "3062          23        12.0         1       240       100          50.0   \n",
       "3063          12        21.0         1        64        99         124.0   \n",
       "3064          44        13.0         1       241        97          54.0   \n",
       "3069           2        13.0         1       176        94           9.0   \n",
       "\n",
       "      Consultation_Fee  Degree  \n",
       "0               1000.0     437  \n",
       "1                700.0     382  \n",
       "2                600.0     213  \n",
       "3                499.0     382  \n",
       "4                600.0     460  \n",
       "...                ...     ...  \n",
       "3061             700.0      73  \n",
       "3062             600.0     420  \n",
       "3063            1000.0       5  \n",
       "3064             500.0      70  \n",
       "3069             700.0       1  \n",
       "\n",
       "[1905 rows x 8 columns]"
      ]
     },
     "execution_count": 52,
     "metadata": {},
     "output_type": "execute_result"
    }
   ],
   "source": [
    "df"
   ]
  },
  {
   "cell_type": "code",
   "execution_count": 53,
   "id": "f80ba984",
   "metadata": {},
   "outputs": [
    {
     "data": {
      "text/plain": [
       "<AxesSubplot:>"
      ]
     },
     "execution_count": 53,
     "metadata": {},
     "output_type": "execute_result"
    },
    {
     "data": {
      "image/png": "[encoded data removed]",
      "text/plain": [
       "<Figure size 432x288 with 2 Axes>"
      ]
     },
     "metadata": {
      "needs_background": "light"
     },
     "output_type": "display_data"
    }
   ],
   "source": [
    "sns.heatmap(df.corr(), annot=True)"
   ]
  },
  {
   "cell_type": "code",
   "execution_count": null,
   "id": "19244af6",
   "metadata": {},
   "outputs": [],
   "source": []
  },
  {
   "cell_type": "markdown",
   "id": "786cac2e",
   "metadata": {},
   "source": [
    "### Extracting dependent and independent Variables"
   ]
  },
  {
   "cell_type": "code",
   "execution_count": 54,
   "id": "9f78c96d",
   "metadata": {},
   "outputs": [],
   "source": [
    "Y= df['Consultation_Fee'].values"
   ]
  },
  {
   "cell_type": "code",
   "execution_count": 55,
   "id": "808606f4",
   "metadata": {},
   "outputs": [
    {
     "data": {
      "text/plain": [
       "Index(['Speciality', 'Experience', 'Location', 'District', 'DP_score',\n",
       "       'Num_of_votes', 'Consultation_Fee', 'Degree'],\n",
       "      dtype='object')"
      ]
     },
     "execution_count": 55,
     "metadata": {},
     "output_type": "execute_result"
    }
   ],
   "source": [
    "df.columns"
   ]
  },
  {
   "cell_type": "code",
   "execution_count": 56,
   "id": "45c64f3d",
   "metadata": {},
   "outputs": [],
   "source": [
    "X=df[['Speciality', 'Experience', 'Location', 'District', 'DP_score','Num_of_votes','Degree']].values"
   ]
  },
  {
   "cell_type": "code",
   "execution_count": 57,
   "id": "96942f44",
   "metadata": {},
   "outputs": [
    {
     "data": {
      "text/plain": [
       "array([[ 37.,  18.,   0., ...,  96.,  54., 437.],\n",
       "       [ 22.,  28.,   0., ...,  94., 105., 382.],\n",
       "       [ 37.,  21.,   0., ...,  97.,  29., 213.],\n",
       "       ...,\n",
       "       [ 12.,  21.,   1., ...,  99., 124.,   5.],\n",
       "       [ 44.,  13.,   1., ...,  97.,  54.,  70.],\n",
       "       [  2.,  13.,   1., ...,  94.,   9.,   1.]])"
      ]
     },
     "execution_count": 57,
     "metadata": {},
     "output_type": "execute_result"
    }
   ],
   "source": [
    "X"
   ]
  },
  {
   "cell_type": "markdown",
   "id": "b139e1a8",
   "metadata": {},
   "source": [
    "### Spliting the dataset into training and testing"
   ]
  },
  {
   "cell_type": "code",
   "execution_count": 58,
   "id": "64305cf6",
   "metadata": {},
   "outputs": [],
   "source": [
    "X_train, X_test, Y_train, Y_test=train_test_split(X,Y,test_size=0.2,random_state=65)"
   ]
  },
  {
   "cell_type": "markdown",
   "id": "60a13d7f",
   "metadata": {},
   "source": [
    "### Training the model"
   ]
  },
  {
   "cell_type": "code",
   "execution_count": 59,
   "id": "2bc14750",
   "metadata": {},
   "outputs": [],
   "source": [
    "sc=StandardScaler()"
   ]
  },
  {
   "cell_type": "code",
   "execution_count": 60,
   "id": "5d91a9e7",
   "metadata": {},
   "outputs": [],
   "source": [
    "X_train=sc.fit_transform(X_train)"
   ]
  },
  {
   "cell_type": "code",
   "execution_count": 61,
   "id": "6ca8982f",
   "metadata": {},
   "outputs": [
    {
     "data": {
      "text/plain": [
       "array([[ 0.5098214 , -0.44248501, -1.13469048, ..., -0.45335516,\n",
       "        -0.41557527,  0.86871892],\n",
       "       [ 1.43750155,  0.66805926,  0.06953535, ...,  0.85477976,\n",
       "         0.51134116,  0.67787563],\n",
       "       [ 0.01030131,  0.54466545,  0.06953535, ..., -1.10742262,\n",
       "         0.52819418, -0.49103954],\n",
       "       ...,\n",
       "       [-0.0610587 , -0.68927263, -1.13469048, ..., -0.01731018,\n",
       "        -0.4324283 ,  1.73347759],\n",
       "       [-0.20377872, -0.56587882, -1.13469048, ...,  0.85477976,\n",
       "        -0.87060698, -0.52085881],\n",
       "       [-0.91737884, -1.18284786,  0.06953535, ...,  0.85477976,\n",
       "        -0.95487211, -0.50296725]])"
      ]
     },
     "execution_count": 61,
     "metadata": {},
     "output_type": "execute_result"
    }
   ],
   "source": [
    "X_train"
   ]
  },
  {
   "cell_type": "code",
   "execution_count": 62,
   "id": "31812ce0",
   "metadata": {},
   "outputs": [],
   "source": [
    "X_test=sc.transform(X_test)"
   ]
  },
  {
   "cell_type": "code",
   "execution_count": 63,
   "id": "ccc40c3c",
   "metadata": {},
   "outputs": [
    {
     "data": {
      "text/plain": [
       "array([[-0.0610587 ,  0.66805926,  0.06953535, ...,  0.85477976,\n",
       "        -0.95487211,  0.86871892],\n",
       "       [-0.91737884, -1.30624166,  0.06953535, ..., -0.01731018,\n",
       "        -0.12907383,  1.39950182],\n",
       "       [ 1.50886156,  0.29787783,  0.06953535, ...,  0.2007123 ,\n",
       "         2.31461494, -1.00989474],\n",
       "       ...,\n",
       "       [-0.20377872, -1.05945405,  0.06953535, ..., -0.01731018,\n",
       "         0.66301839,  1.54859815],\n",
       "       [-0.98873885, -0.1956974 ,  1.27376118, ...,  0.63675728,\n",
       "         0.30910484, -1.11128024],\n",
       "       [-0.0610587 , -0.3190912 , -1.13469048, ..., -1.10742262,\n",
       "        -0.34816317,  0.86871892]])"
      ]
     },
     "execution_count": 63,
     "metadata": {},
     "output_type": "execute_result"
    }
   ],
   "source": [
    "X_test"
   ]
  },
  {
   "cell_type": "code",
   "execution_count": 64,
   "id": "bdfc50c6",
   "metadata": {},
   "outputs": [],
   "source": [
    "reg=LinearRegression()"
   ]
  },
  {
   "cell_type": "code",
   "execution_count": 65,
   "id": "dd037ce1",
   "metadata": {},
   "outputs": [
    {
     "data": {
      "text/plain": [
       "LinearRegression()"
      ]
     },
     "execution_count": 65,
     "metadata": {},
     "output_type": "execute_result"
    }
   ],
   "source": [
    "reg.fit(X_train, Y_train)"
   ]
  },
  {
   "cell_type": "code",
   "execution_count": 66,
   "id": "38f0edf9",
   "metadata": {},
   "outputs": [
    {
     "data": {
      "text/plain": [
       "774.5898950131234"
      ]
     },
     "execution_count": 66,
     "metadata": {},
     "output_type": "execute_result"
    }
   ],
   "source": [
    "reg.intercept_"
   ]
  },
  {
   "cell_type": "code",
   "execution_count": 67,
   "id": "c230b02d",
   "metadata": {},
   "outputs": [
    {
     "data": {
      "text/plain": [
       "array([ 58.07130662,  55.76374312,  99.89592256,  27.92533817,\n",
       "       -27.47693338,  -7.33177892, 104.58391116])"
      ]
     },
     "execution_count": 67,
     "metadata": {},
     "output_type": "execute_result"
    }
   ],
   "source": [
    "reg.coef_"
   ]
  },
  {
   "cell_type": "code",
   "execution_count": 68,
   "id": "c604acdd",
   "metadata": {},
   "outputs": [],
   "source": [
    "Y_pred=reg.predict(X_test)"
   ]
  },
  {
   "cell_type": "code",
   "execution_count": 69,
   "id": "4a2e5280",
   "metadata": {},
   "outputs": [],
   "source": [
    "import numpy as np"
   ]
  },
  {
   "cell_type": "code",
   "execution_count": 79,
   "id": "bd938ed2",
   "metadata": {},
   "outputs": [],
   "source": [
    "i = np.array([[37,18,0,322,96,54,437]])"
   ]
  },
  {
   "cell_type": "code",
   "execution_count": 80,
   "id": "f348297f",
   "metadata": {},
   "outputs": [
    {
     "data": {
      "text/plain": [
       "array([[ 37,  18,   0, 322,  96,  54, 437]])"
      ]
     },
     "execution_count": 80,
     "metadata": {},
     "output_type": "execute_result"
    }
   ],
   "source": [
    "i"
   ]
  },
  {
   "cell_type": "code",
   "execution_count": 81,
   "id": "3f7d8645",
   "metadata": {},
   "outputs": [
    {
     "data": {
      "text/plain": [
       "array([55588.40201734])"
      ]
     },
     "execution_count": 81,
     "metadata": {},
     "output_type": "execute_result"
    }
   ],
   "source": [
    "reg.predict(i)"
   ]
  },
  {
   "cell_type": "code",
   "execution_count": null,
   "id": "12598bd8",
   "metadata": {},
   "outputs": [],
   "source": [
    "def predict():\n",
    "    int_features=[x for x in request.form.values()]\n",
    "    final=[np.array(int_features)]\n",
    "    print(int_features)\n",
    "    print(final)\n",
    "    prediction=model.predict(final)\n",
    "    output='{}'.format(str(prediction))\n"
   ]
  },
  {
   "cell_type": "code",
   "execution_count": 86,
   "id": "27b32e45",
   "metadata": {},
   "outputs": [],
   "source": [
    "list=[1,2,3,4,5,6,7]"
   ]
  },
  {
   "cell_type": "code",
   "execution_count": 87,
   "id": "73ba23f1",
   "metadata": {},
   "outputs": [],
   "source": [
    "final=[np.array(list)]"
   ]
  },
  {
   "cell_type": "code",
   "execution_count": 88,
   "id": "9748ce02",
   "metadata": {},
   "outputs": [
    {
     "data": {
      "text/plain": [
       "[array([1, 2, 3, 4, 5, 6, 7])]"
      ]
     },
     "execution_count": 88,
     "metadata": {},
     "output_type": "execute_result"
    }
   ],
   "source": [
    "final"
   ]
  },
  {
   "cell_type": "code",
   "execution_count": 98,
   "id": "9fc90d07",
   "metadata": {},
   "outputs": [],
   "source": [
    "prediction=reg.predict(final)"
   ]
  },
  {
   "cell_type": "code",
   "execution_count": 109,
   "id": "2954338e",
   "metadata": {},
   "outputs": [],
   "source": [
    "p=int(prediction)"
   ]
  },
  {
   "cell_type": "code",
   "execution_count": 110,
   "id": "f2cddbcb",
   "metadata": {},
   "outputs": [],
   "source": [
    "output='{}'.format(p)"
   ]
  },
  {
   "cell_type": "code",
   "execution_count": 111,
   "id": "8508d56e",
   "metadata": {},
   "outputs": [
    {
     "data": {
      "text/plain": [
       "'1906'"
      ]
     },
     "execution_count": 111,
     "metadata": {},
     "output_type": "execute_result"
    }
   ],
   "source": [
    "output"
   ]
  },
  {
   "cell_type": "markdown",
   "id": "b5d3998e",
   "metadata": {},
   "source": [
    "## Model Evaluation"
   ]
  },
  {
   "cell_type": "code",
   "execution_count": null,
   "id": "138d4aef",
   "metadata": {},
   "outputs": [],
   "source": [
    "MSE=metrics.mean_squared_error(Y_test, Y_pred)"
   ]
  },
  {
   "cell_type": "code",
   "execution_count": null,
   "id": "15ea4c40",
   "metadata": {},
   "outputs": [],
   "source": [
    "RMSE=np.sqrt(MSE)"
   ]
  },
  {
   "cell_type": "code",
   "execution_count": null,
   "id": "1c652148",
   "metadata": {},
   "outputs": [],
   "source": [
    "RMSE"
   ]
  },
  {
   "cell_type": "code",
   "execution_count": null,
   "id": "c47f48de",
   "metadata": {},
   "outputs": [],
   "source": [
    "R2=metrics.r2_score(Y_test,Y_pred)"
   ]
  },
  {
   "cell_type": "code",
   "execution_count": null,
   "id": "2dc23f21",
   "metadata": {},
   "outputs": [],
   "source": [
    "R2"
   ]
  },
  {
   "cell_type": "markdown",
   "id": "9d308bc2",
   "metadata": {},
   "source": [
    "# Building Webpage"
   ]
  },
  {
   "cell_type": "code",
   "execution_count": 73,
   "id": "8f040b9b",
   "metadata": {},
   "outputs": [],
   "source": [
    "import pickle"
   ]
  },
  {
   "cell_type": "code",
   "execution_count": null,
   "id": "c02b8085",
   "metadata": {},
   "outputs": [],
   "source": [
    "pickle.dump(reg,open('model.pkl','wb'))\n",
    "model=pickle.load(open('model.pkl','rb'))"
   ]
  },
  {
   "cell_type": "code",
   "execution_count": null,
   "id": "9211b83b",
   "metadata": {},
   "outputs": [],
   "source": []
  }
 ],
 "metadata": {
  "kernelspec": {
   "display_name": "Python 3 (ipykernel)",
   "language": "python",
   "name": "python3"
  },
  "language_info": {
   "codemirror_mode": {
    "name": "ipython",
    "version": 3
   },
   "file_extension": ".py",
   "mimetype": "text/x-python",
   "name": "python",
   "nbconvert_exporter": "python",
   "pygments_lexer": "ipython3",
   "version": "3.9.12"
  }
 },
 "nbformat": 4,
 "nbformat_minor": 5
}
