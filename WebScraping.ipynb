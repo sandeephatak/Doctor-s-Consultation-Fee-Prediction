{
 "cells": [
  {
   "cell_type": "code",
   "execution_count": 1,
   "id": "a7c11607",
   "metadata": {},
   "outputs": [
    {
     "name": "stdout",
     "output_type": "stream",
     "text": [
      "Collecting bs4\n",
      "  Downloading bs4-0.0.1.tar.gz (1.1 kB)\n",
      "Requirement already satisfied: beautifulsoup4 in c:\\users\\phata\\anaconda3\\lib\\site-packages (from bs4) (4.11.1)\n",
      "Requirement already satisfied: soupsieve>1.2 in c:\\users\\phata\\anaconda3\\lib\\site-packages (from beautifulsoup4->bs4) (2.3.1)\n",
      "Building wheels for collected packages: bs4\n",
      "  Building wheel for bs4 (setup.py): started\n",
      "  Building wheel for bs4 (setup.py): finished with status 'done'\n",
      "  Created wheel for bs4: filename=bs4-0.0.1-py3-none-any.whl size=1272 sha256=6be5562207db9c81d9ef0412dc0f4faa8c43c8d327dfd9b1ef93345a83f2cf9b\n",
      "  Stored in directory: c:\\users\\phata\\appdata\\local\\pip\\cache\\wheels\\73\\2b\\cb\\099980278a0c9a3e57ff1a89875ec07bfa0b6fcbebb9a8cad3\n",
      "Successfully built bs4\n",
      "Installing collected packages: bs4\n",
      "Successfully installed bs4-0.0.1\n",
      "Note: you may need to restart the kernel to use updated packages.\n"
     ]
    }
   ],
   "source": [
    "pip install bs4"
   ]
  },
  {
   "cell_type": "code",
   "execution_count": 2,
   "id": "8947a5ae",
   "metadata": {},
   "outputs": [
    {
     "name": "stdout",
     "output_type": "stream",
     "text": [
      "Requirement already satisfied: lxml in c:\\users\\phata\\anaconda3\\lib\\site-packages (4.8.0)Note: you may need to restart the kernel to use updated packages.\n",
      "\n"
     ]
    }
   ],
   "source": [
    "pip install lxml"
   ]
  },
  {
   "cell_type": "code",
   "execution_count": 3,
   "id": "c0e3846d",
   "metadata": {},
   "outputs": [
    {
     "name": "stdout",
     "output_type": "stream",
     "text": [
      "Requirement already satisfied: requests in c:\\users\\phata\\anaconda3\\lib\\site-packages (2.27.1)Note: you may need to restart the kernel to use updated packages.\n",
      "Requirement already satisfied: idna<4,>=2.5 in c:\\users\\phata\\anaconda3\\lib\\site-packages (from requests) (3.3)\n",
      "Requirement already satisfied: charset-normalizer~=2.0.0 in c:\\users\\phata\\anaconda3\\lib\\site-packages (from requests) (2.0.4)\n",
      "Requirement already satisfied: urllib3<1.27,>=1.21.1 in c:\\users\\phata\\anaconda3\\lib\\site-packages (from requests) (1.26.9)\n",
      "Requirement already satisfied: certifi>=2017.4.17 in c:\\users\\phata\\anaconda3\\lib\\site-packages (from requests) (2021.10.8)\n",
      "\n"
     ]
    }
   ],
   "source": [
    "pip install requests"
   ]
  },
  {
   "cell_type": "code",
   "execution_count": 4,
   "id": "fbc5822b",
   "metadata": {},
   "outputs": [
    {
     "name": "stdout",
     "output_type": "stream",
     "text": [
      "Requirement already satisfied: selenium in c:\\users\\phata\\anaconda3\\lib\\site-packages (4.5.0)\n",
      "Requirement already satisfied: trio-websocket~=0.9 in c:\\users\\phata\\anaconda3\\lib\\site-packages (from selenium) (0.9.2)\n",
      "Requirement already satisfied: urllib3[socks]~=1.26 in c:\\users\\phata\\anaconda3\\lib\\site-packages (from selenium) (1.26.9)\n",
      "Requirement already satisfied: certifi>=2021.10.8 in c:\\users\\phata\\anaconda3\\lib\\site-packages (from selenium) (2021.10.8)\n",
      "Requirement already satisfied: trio~=0.17 in c:\\users\\phata\\anaconda3\\lib\\site-packages (from selenium) (0.22.0)\n",
      "Requirement already satisfied: idna in c:\\users\\phata\\anaconda3\\lib\\site-packages (from trio~=0.17->selenium) (3.3)\n",
      "Requirement already satisfied: sortedcontainers in c:\\users\\phata\\anaconda3\\lib\\site-packages (from trio~=0.17->selenium) (2.4.0)\n",
      "Requirement already satisfied: async-generator>=1.9 in c:\\users\\phata\\anaconda3\\lib\\site-packages (from trio~=0.17->selenium) (1.10)\n",
      "Requirement already satisfied: outcome in c:\\users\\phata\\anaconda3\\lib\\site-packages (from trio~=0.17->selenium) (1.2.0)\n",
      "Requirement already satisfied: attrs>=19.2.0 in c:\\users\\phata\\anaconda3\\lib\\site-packages (from trio~=0.17->selenium) (21.4.0)\n",
      "Requirement already satisfied: exceptiongroup>=1.0.0rc9 in c:\\users\\phata\\anaconda3\\lib\\site-packages (from trio~=0.17->selenium) (1.0.0)\n",
      "Requirement already satisfied: cffi>=1.14 in c:\\users\\phata\\anaconda3\\lib\\site-packages (from trio~=0.17->selenium) (1.15.0)\n",
      "Requirement already satisfied: sniffio in c:\\users\\phata\\anaconda3\\lib\\site-packages (from trio~=0.17->selenium) (1.2.0)\n",
      "Requirement already satisfied: pycparser in c:\\users\\phata\\anaconda3\\lib\\site-packages (from cffi>=1.14->trio~=0.17->selenium) (2.21)\n",
      "Requirement already satisfied: wsproto>=0.14 in c:\\users\\phata\\anaconda3\\lib\\site-packages (from trio-websocket~=0.9->selenium) (1.2.0)\n",
      "Requirement already satisfied: PySocks!=1.5.7,<2.0,>=1.5.6 in c:\\users\\phata\\anaconda3\\lib\\site-packages (from urllib3[socks]~=1.26->selenium) (1.7.1)\n",
      "Requirement already satisfied: h11<1,>=0.9.0 in c:\\users\\phata\\anaconda3\\lib\\site-packages (from wsproto>=0.14->trio-websocket~=0.9->selenium) (0.14.0)\n",
      "Note: you may need to restart the kernel to use updated packages.\n"
     ]
    }
   ],
   "source": [
    "pip install selenium"
   ]
  },
  {
   "cell_type": "code",
   "execution_count": 8,
   "id": "36eea410",
   "metadata": {},
   "outputs": [],
   "source": [
    "import requests\n",
    "from bs4 import BeautifulSoup\n",
    "import pandas as pd\n",
    "from selenium import webdriver\n",
    "from selenium.webdriver.common.keys import Keys\n",
    "from selenium.webdriver.common.by import By\n",
    "import time\n",
    "from datetime import datetime"
   ]
  },
  {
   "cell_type": "code",
   "execution_count": 9,
   "id": "77ba99de",
   "metadata": {},
   "outputs": [],
   "source": [
    "driver = webdriver.Firefox()\n",
    "url = 'https://www.practo.com/search/doctors?results_type=doctor&q=%5B%7B%22word%22%3A%22doctor%22%2C%22autocompleted%22%3Atrue%2C%22category%22%3A%22type%22%7D%5D&city=Mumbai'\n",
    "driver.get(url)"
   ]
  },
  {
   "cell_type": "code",
   "execution_count": 10,
   "id": "e49d7f9e",
   "metadata": {},
   "outputs": [
    {
     "ename": "WebDriverException",
     "evalue": "Message: Failed to decode response from marionette\n",
     "output_type": "error",
     "traceback": [
      "\u001b[1;31m---------------------------------------------------------------------------\u001b[0m",
      "\u001b[1;31mWebDriverException\u001b[0m                        Traceback (most recent call last)",
      "Input \u001b[1;32mIn [10]\u001b[0m, in \u001b[0;36m<cell line: 2>\u001b[1;34m()\u001b[0m\n\u001b[0;32m      1\u001b[0m n\u001b[38;5;241m=\u001b[39m\u001b[38;5;241m100\u001b[39m\n\u001b[0;32m      2\u001b[0m \u001b[38;5;28;01mfor\u001b[39;00m i \u001b[38;5;129;01min\u001b[39;00m \u001b[38;5;28mrange\u001b[39m(n):\n\u001b[1;32m----> 3\u001b[0m     \u001b[38;5;28;01mfor\u001b[39;00m element \u001b[38;5;129;01min\u001b[39;00m \u001b[43mdriver\u001b[49m\u001b[38;5;241;43m.\u001b[39;49m\u001b[43mfind_elements\u001b[49m\u001b[43m(\u001b[49m\u001b[43mby\u001b[49m\u001b[43m \u001b[49m\u001b[38;5;241;43m=\u001b[39;49m\u001b[43m \u001b[49m\u001b[43mBy\u001b[49m\u001b[38;5;241;43m.\u001b[39;49m\u001b[43mXPATH\u001b[49m\u001b[43m,\u001b[49m\u001b[43m \u001b[49m\u001b[43mvalue\u001b[49m\u001b[38;5;241;43m=\u001b[39;49m\u001b[38;5;124;43m\"\u001b[39;49m\u001b[38;5;124;43m//div[@class=\u001b[39;49m\u001b[38;5;124;43m'\u001b[39;49m\u001b[38;5;124;43mu-padding--sm\u001b[39;49m\u001b[38;5;124;43m'\u001b[39;49m\u001b[38;5;124;43m]\u001b[39;49m\u001b[38;5;124;43m\"\u001b[39;49m\u001b[43m)\u001b[49m:\n\u001b[0;32m      4\u001b[0m     \u001b[38;5;66;03m##soup = Beautifu[soup(driver.page_source, 'html. parser ' )\u001b[39;00m\n\u001b[0;32m      5\u001b[0m     \u001b[38;5;66;03m##element = driver.find_elements(by = By.XPATH, value =' treeitem ' ] [ -1]\u001b[39;00m\n\u001b[0;32m      7\u001b[0m         lenn \u001b[38;5;241m=\u001b[39m \u001b[38;5;28mlen\u001b[39m(driver\u001b[38;5;241m.\u001b[39mfind_elements(by\u001b[38;5;241m=\u001b[39mBy\u001b[38;5;241m.\u001b[39mXPATH, value \u001b[38;5;241m=\u001b[39m\u001b[38;5;124m\"\u001b[39m\u001b[38;5;124m//div[@span=\u001b[39m\u001b[38;5;124m'\u001b[39m\u001b[38;5;124mu-padding--sm\u001b[39m\u001b[38;5;124m'\u001b[39m\u001b[38;5;124m]\u001b[39m\u001b[38;5;124m\"\u001b[39m ))\n\u001b[0;32m      8\u001b[0m         driver\u001b[38;5;241m.\u001b[39mexecute_script(\u001b[38;5;124m\"\u001b[39m\u001b[38;5;124marguments[0].scrollIntoView(true);\u001b[39m\u001b[38;5;124m\"\u001b[39m ,element)\n",
      "File \u001b[1;32m~\\anaconda3\\lib\\site-packages\\selenium\\webdriver\\remote\\webdriver.py:889\u001b[0m, in \u001b[0;36mWebDriver.find_elements\u001b[1;34m(self, by, value)\u001b[0m\n\u001b[0;32m    885\u001b[0m     value \u001b[38;5;241m=\u001b[39m \u001b[38;5;124m'\u001b[39m\u001b[38;5;124m[name=\u001b[39m\u001b[38;5;124m\"\u001b[39m\u001b[38;5;132;01m%s\u001b[39;00m\u001b[38;5;124m\"\u001b[39m\u001b[38;5;124m]\u001b[39m\u001b[38;5;124m'\u001b[39m \u001b[38;5;241m%\u001b[39m value\n\u001b[0;32m    887\u001b[0m \u001b[38;5;66;03m# Return empty list if driver returns null\u001b[39;00m\n\u001b[0;32m    888\u001b[0m \u001b[38;5;66;03m# See https://github.com/SeleniumHQ/selenium/issues/4555\u001b[39;00m\n\u001b[1;32m--> 889\u001b[0m \u001b[38;5;28;01mreturn\u001b[39;00m \u001b[38;5;28;43mself\u001b[39;49m\u001b[38;5;241;43m.\u001b[39;49m\u001b[43mexecute\u001b[49m\u001b[43m(\u001b[49m\u001b[43mCommand\u001b[49m\u001b[38;5;241;43m.\u001b[39;49m\u001b[43mFIND_ELEMENTS\u001b[49m\u001b[43m,\u001b[49m\u001b[43m \u001b[49m\u001b[43m{\u001b[49m\n\u001b[0;32m    890\u001b[0m \u001b[43m    \u001b[49m\u001b[38;5;124;43m'\u001b[39;49m\u001b[38;5;124;43musing\u001b[39;49m\u001b[38;5;124;43m'\u001b[39;49m\u001b[43m:\u001b[49m\u001b[43m \u001b[49m\u001b[43mby\u001b[49m\u001b[43m,\u001b[49m\n\u001b[0;32m    891\u001b[0m \u001b[43m    \u001b[49m\u001b[38;5;124;43m'\u001b[39;49m\u001b[38;5;124;43mvalue\u001b[39;49m\u001b[38;5;124;43m'\u001b[39;49m\u001b[43m:\u001b[49m\u001b[43m \u001b[49m\u001b[43mvalue\u001b[49m\u001b[43m}\u001b[49m\u001b[43m)\u001b[49m[\u001b[38;5;124m'\u001b[39m\u001b[38;5;124mvalue\u001b[39m\u001b[38;5;124m'\u001b[39m] \u001b[38;5;129;01mor\u001b[39;00m []\n",
      "File \u001b[1;32m~\\anaconda3\\lib\\site-packages\\selenium\\webdriver\\remote\\webdriver.py:429\u001b[0m, in \u001b[0;36mWebDriver.execute\u001b[1;34m(self, driver_command, params)\u001b[0m\n\u001b[0;32m    427\u001b[0m response \u001b[38;5;241m=\u001b[39m \u001b[38;5;28mself\u001b[39m\u001b[38;5;241m.\u001b[39mcommand_executor\u001b[38;5;241m.\u001b[39mexecute(driver_command, params)\n\u001b[0;32m    428\u001b[0m \u001b[38;5;28;01mif\u001b[39;00m response:\n\u001b[1;32m--> 429\u001b[0m     \u001b[38;5;28;43mself\u001b[39;49m\u001b[38;5;241;43m.\u001b[39;49m\u001b[43merror_handler\u001b[49m\u001b[38;5;241;43m.\u001b[39;49m\u001b[43mcheck_response\u001b[49m\u001b[43m(\u001b[49m\u001b[43mresponse\u001b[49m\u001b[43m)\u001b[49m\n\u001b[0;32m    430\u001b[0m     response[\u001b[38;5;124m'\u001b[39m\u001b[38;5;124mvalue\u001b[39m\u001b[38;5;124m'\u001b[39m] \u001b[38;5;241m=\u001b[39m \u001b[38;5;28mself\u001b[39m\u001b[38;5;241m.\u001b[39m_unwrap_value(\n\u001b[0;32m    431\u001b[0m         response\u001b[38;5;241m.\u001b[39mget(\u001b[38;5;124m'\u001b[39m\u001b[38;5;124mvalue\u001b[39m\u001b[38;5;124m'\u001b[39m, \u001b[38;5;28;01mNone\u001b[39;00m))\n\u001b[0;32m    432\u001b[0m     \u001b[38;5;28;01mreturn\u001b[39;00m response\n",
      "File \u001b[1;32m~\\anaconda3\\lib\\site-packages\\selenium\\webdriver\\remote\\errorhandler.py:243\u001b[0m, in \u001b[0;36mErrorHandler.check_response\u001b[1;34m(self, response)\u001b[0m\n\u001b[0;32m    241\u001b[0m         alert_text \u001b[38;5;241m=\u001b[39m value[\u001b[38;5;124m'\u001b[39m\u001b[38;5;124malert\u001b[39m\u001b[38;5;124m'\u001b[39m]\u001b[38;5;241m.\u001b[39mget(\u001b[38;5;124m'\u001b[39m\u001b[38;5;124mtext\u001b[39m\u001b[38;5;124m'\u001b[39m)\n\u001b[0;32m    242\u001b[0m     \u001b[38;5;28;01mraise\u001b[39;00m exception_class(message, screen, stacktrace, alert_text)  \u001b[38;5;66;03m# type: ignore[call-arg]  # mypy is not smart enough here\u001b[39;00m\n\u001b[1;32m--> 243\u001b[0m \u001b[38;5;28;01mraise\u001b[39;00m exception_class(message, screen, stacktrace)\n",
      "\u001b[1;31mWebDriverException\u001b[0m: Message: Failed to decode response from marionette\n"
     ]
    }
   ],
   "source": [
    "n=100\n",
    "for i in range(n):\n",
    "    for element in driver.find_elements(by = By.XPATH, value=\"//div[@class='u-padding--sm']\"):\n",
    "    ##soup = Beautifu[soup(driver.page_source, 'html. parser ' )\n",
    "    ##element = driver.find_elements(by = By.XPATH, value =' treeitem ' ] [ -1]\n",
    "\n",
    "        lenn = len(driver.find_elements(by=By.XPATH, value =\"//div[@span='u-padding--sm']\" ))\n",
    "        driver.execute_script(\"arguments[0].scrollIntoView(true);\" ,element)\n",
    "        time.sleep(2)\n",
    "        \n",
    "# #         if n>10:\n",
    "# #             time.sleep(10)\n",
    "# #         elif n>11:\n",
    "# #             time.sleep(1)\n",
    "# #         if n>20:\n",
    "# #             time.sleep(10)\n",
    "# #         elif n>21:\n",
    "# #             time.sleep(1)"
   ]
  },
  {
   "cell_type": "code",
   "execution_count": 3,
   "id": "3b3a0602",
   "metadata": {},
   "outputs": [],
   "source": [
    "# data=requests.get('https://www.practo.com/search/doctors?results_type=doctor&q=%5B%7B%22word%22%3A%22doctor%22%2C%22autocompleted%22%3Atrue%2C%22category%22%3A%22type%22%7D%5D&city=Mumbai')"
   ]
  },
  {
   "cell_type": "code",
   "execution_count": 5,
   "id": "653e71e6",
   "metadata": {},
   "outputs": [],
   "source": [
    "# data1=data.text"
   ]
  },
  {
   "cell_type": "code",
   "execution_count": 23,
   "id": "0cf5fc06",
   "metadata": {},
   "outputs": [],
   "source": [
    "soup = BeautifulSoup(driver.page_source, 'html.parser' )"
   ]
  },
  {
   "cell_type": "code",
   "execution_count": 13,
   "id": "464c1c51",
   "metadata": {},
   "outputs": [],
   "source": [
    "# soup = BeautifulSoup(data1, 'html.parser' )"
   ]
  },
  {
   "cell_type": "code",
   "execution_count": 16,
   "id": "57e644fd",
   "metadata": {
    "scrolled": true
   },
   "outputs": [
    {
     "data": {
      "text/plain": [
       "<div class=\"info-section\"><a href=\"/mumbai/doctor/shradha-goel-ophthalmologist?practice_id=1382614&amp;specialization=Doctor&amp;referrer=doctor_listing\"><div class=\"u-color--primary uv2-spacer--xs-bottom\"><h2 class=\"doctor-name\" data-qa-id=\"doctor_name\">Dr. Shradha Goel</h2></div></a><div class=\"u-grey_3-text\"><div class=\"u-d-flex\"><span>Ophthalmologist</span></div><div class=\"uv2-spacer--xs-top\" data-qa-id=\"doctor_experience\"><div>20<!-- --> <span>years experience overall</span></div></div></div><div class=\"u-d-flex flex-ai-center u-spacer--vertical-less\"><div><p class=\"u-color--dark-blue u-base-font u-smallest-font\">Fulfilled by</p><img class=\"u-object-fit--contain\" data-qa-id=\"free-opd\" height=\"36px\" src=\"//www.practostatic.com/web-assets/images/practo_care_fulfilled_logo.f29d08afac83.svg\" srcset=\"//www.practostatic.com/web-assets/images/practo_care_fulfilled_logo.f29d08afac83.svg\" width=\"120px\"/></div><p class=\"u-spacer--left-12 u-color--dark-blue u-base-font\">Assisted Surgery Experience</p></div><div class=\"uv2-spacer--sm-top\"><div class=\"u-bold u-d-inlineblock u-valign--middle\"><a href=\"/mumbai/ophthalmologist/andheri-west\"><span data-qa-id=\"practice_locality\">Andheri West<!-- -->,</span><span class=\"u-t-capitalize\" data-qa-id=\"practice_city\">Mumbai</span></a></div> <span class=\"u-dot-separator u-spacer--horizontal-less u-valign--middle\"></span> <div class=\"u-d-inlineblock u-valign--middle\"><a href=\"/Mumbai/hospital/practo-care-surgeries-andheri-west-mumbai-opthal-andheri-west\" target=\"_blank\"><span class=\"u-c-pointer u-t-hover-underline\" data-qa-id=\"doctor_clinic_name\">Practo Care Surgeries</span></a><a href=\"/mumbai/doctor/shradha-goel-ophthalmologist?practice_id=1382614&amp;specialization=Doctor&amp;referrer=doctor_listing\" target=\"_blank\"><span class=\"u-c-pointer u-t-hover-underline\" data-qa-id=\"doctor_clinic_count\"> <span>+</span><span> 1</span> <span>more</span></span></a></div><div class=\"uv2-spacer--xs-top\"><span><span class=\"\" data-qa-id=\"consultation_fee\">₹<!-- -->499</span> </span><span>Consultation fee at clinic</span></div></div><div class=\"uv2-spacer--md-top uv2-cushion--lg-top u-border-general-dashed-top--gray-10\"><div><a class=\"uv2-spacer--md-right\" href=\"/mumbai/doctor/shradha-goel-ophthalmologist/recommended?practice_id=1382614&amp;specialization=Doctor&amp;referrer=doctor_listing\" target=\"_blank\"><span class=\"o-label--success u-bold\"><i class=\"icon-ic_like_filled\"></i><span data-qa-id=\"doctor_recommendation\">99<!-- -->% </span></span></a><a href=\"/mumbai/doctor/shradha-goel-ophthalmologist/recommended?practice_id=1382614&amp;specialization=Doctor&amp;referrer=doctor_listing\" target=\"_blank\"><span class=\"u-bold u-t-underline\" data-qa-id=\"total_feedback\">169<!-- --> <span>Patient Stories</span></span></a></div></div></div>"
      ]
     },
     "execution_count": 16,
     "metadata": {},
     "output_type": "execute_result"
    }
   ],
   "source": [
    "soup.find_all('div',{'class':'info-section'})[0]"
   ]
  },
  {
   "cell_type": "code",
   "execution_count": 24,
   "id": "a894920f",
   "metadata": {},
   "outputs": [
    {
     "data": {
      "text/plain": [
       "1020"
      ]
     },
     "execution_count": 24,
     "metadata": {},
     "output_type": "execute_result"
    }
   ],
   "source": [
    "len(soup.find_all('div',{'class':'info-section'}))"
   ]
  },
  {
   "cell_type": "code",
   "execution_count": null,
   "id": "2006db2f",
   "metadata": {},
   "outputs": [],
   "source": [
    "# # Finding the name of the doctor\n",
    "\n",
    "# Info_section = soup.find_all('div',{'class':'info-section'})[0]\n",
    "# name = Info_section.find_all('h2')[0].text\n",
    "# name"
   ]
  },
  {
   "cell_type": "code",
   "execution_count": null,
   "id": "f313a6c6",
   "metadata": {},
   "outputs": [],
   "source": [
    "# #Finding the Speciality of doctor\n",
    "\n",
    "# Speciality = Info_section.find_all('span')[0].text\n",
    "# Speciality"
   ]
  },
  {
   "cell_type": "code",
   "execution_count": null,
   "id": "769dcf1e",
   "metadata": {},
   "outputs": [],
   "source": [
    "# #Finding numbers of years of experience\n",
    "# Experience = (Info_section.find_all('div', {'class':'uv2-spacer--xs-top'})[0].text)[:2]\n"
   ]
  },
  {
   "cell_type": "code",
   "execution_count": null,
   "id": "8f38d229",
   "metadata": {},
   "outputs": [],
   "source": [
    "# #Finding Location of the clinic\n",
    "# Location = Info_section.find_all('span')[3].text"
   ]
  },
  {
   "cell_type": "code",
   "execution_count": null,
   "id": "4cbfd600",
   "metadata": {},
   "outputs": [],
   "source": [
    "# #Finding District of the clinic\n",
    "# District = (Info_section.find_all('span')[2].text)[:-1]"
   ]
  },
  {
   "cell_type": "code",
   "execution_count": null,
   "id": "40537aed",
   "metadata": {},
   "outputs": [],
   "source": [
    "# #Finding DP Score\n",
    "# DP_score = Info_section.find_all('span',{'data-qa-id':'doctor_recommendation'})[0].text"
   ]
  },
  {
   "cell_type": "code",
   "execution_count": null,
   "id": "7aca8dc4",
   "metadata": {},
   "outputs": [],
   "source": [
    "# #Finding number of votes.\n",
    "# x= Info_section.find_all('span',{'data-qa-id':'total_feedback'})[0].text\n",
    "# num_of_votes = int(x.split()[0])\n",
    "# num_of_votes"
   ]
  },
  {
   "cell_type": "code",
   "execution_count": null,
   "id": "b292bca5",
   "metadata": {},
   "outputs": [],
   "source": [
    "# #Finding Consultation fee:\n",
    "# y = Info_section.find_all('div', {'class':'uv2-spacer--xs-top'})[1].text\n",
    "# Consultation_fee = y.split()[0][1:]\n",
    "# Consultation_fee"
   ]
  },
  {
   "cell_type": "code",
   "execution_count": null,
   "id": "f763caa9",
   "metadata": {},
   "outputs": [],
   "source": [
    "# #Finding Degree\n",
    "# Url1='https://www.practo.com/' + str(Info_section.find('a')['href'])\n",
    "# degree_data=requests.get(Url1).text\n",
    "# soup2= BeautifulSoup(degree_data,'html.parser')\n",
    "# qualification = soup2.find_all('div',{'class':'pure-g g-card'})[0]\n",
    "# Degree = qualification.find_all('p',{'data-qa-id':'doctor-qualifications'})[0].text"
   ]
  },
  {
   "cell_type": "code",
   "execution_count": 18,
   "id": "2174e97b",
   "metadata": {},
   "outputs": [],
   "source": [
    "Doc_profile=[]"
   ]
  },
  {
   "cell_type": "code",
   "execution_count": 29,
   "id": "00872d47",
   "metadata": {},
   "outputs": [],
   "source": [
    "for i in range (595,len(soup.find_all('div',{'class':'info-section'}))):\n",
    "    \n",
    "    Info_section = soup.find_all('div',{'class':'info-section'})[i]\n",
    "    \n",
    "    try:\n",
    "        name = Info_section.find_all('h2')[0].text\n",
    "    except Exception as e:\n",
    "        name = 'N/A'\n",
    "    try:\n",
    "        Speciality = Info_section.find_all('span')[0].text\n",
    "    except Exception as e:\n",
    "        Speciality = 'N/A'\n",
    "    try:\n",
    "        Experience = (Info_section.find_all('div', {'class':'uv2-spacer--xs-top'})[0].text)[:2]\n",
    "    except Exception as e:\n",
    "        Experience = 'N/A'\n",
    "    try:\n",
    "        Location = Info_section.find_all('span')[3].text\n",
    "    except Exception as e:\n",
    "        Location = 'N/A'\n",
    "    try:\n",
    "        District = (Info_section.find_all('span')[2].text)[:-1]\n",
    "    except Exception as e:\n",
    "        District = 'N/A'\n",
    "    try:\n",
    "        DP_score = Info_section.find_all('span',{'data-qa-id':'doctor_recommendation'})[0].text\n",
    "    except Exception as e:\n",
    "        DP_score = 'N/A'\n",
    "    \n",
    "    try:\n",
    "        x= Info_section.find_all('span',{'data-qa-id':'total_feedback'})[0].text\n",
    "        num_of_votes = int(x.split()[0])\n",
    "    except Exception as e:\n",
    "        num_of_votes = 'N/A'\n",
    "    \n",
    "    try:\n",
    "        y = Info_section.find_all('div', {'class':'uv2-spacer--xs-top'})[1].text\n",
    "        Consultation_fee = y.split()[0][1:]\n",
    "    except Exception as e:\n",
    "        Consultation_fee = 'N/A'\n",
    "    try:    \n",
    "        Url1='https://www.practo.com/' + str(Info_section.find('a')['href'])\n",
    "        degree_data=requests.get(Url1).text\n",
    "        soup2= BeautifulSoup(degree_data,'html.parser')\n",
    "        qualification = soup2.find_all('div',{'class':'pure-g g-card'})[0]\n",
    "        Degree = qualification.find_all('p',{'data-qa-id':'doctor-qualifications'})[0].text\n",
    "    except Exception as e:\n",
    "        Degree = 'N/A'\n",
    "    \n",
    "    profile_dict = {\n",
    "        'name' : name,\n",
    "        'Speciality' : Speciality,\n",
    "        'Experience' : Experience,\n",
    "        'Location' : Location,\n",
    "        'District' : District,\n",
    "        'DP_score' : DP_score,\n",
    "        'Num_of_votes' : num_of_votes,\n",
    "        'Consultation_Fee' : Consultation_fee,\n",
    "        'Degree': Degree\n",
    "    }\n",
    "    Doc_profile.append(profile_dict)"
   ]
  },
  {
   "cell_type": "code",
   "execution_count": 30,
   "id": "818515e8",
   "metadata": {},
   "outputs": [
    {
     "data": {
      "text/plain": [
       "1020"
      ]
     },
     "execution_count": 30,
     "metadata": {},
     "output_type": "execute_result"
    }
   ],
   "source": [
    "len(Doc_profile)"
   ]
  },
  {
   "cell_type": "code",
   "execution_count": 31,
   "id": "d9012a10",
   "metadata": {},
   "outputs": [],
   "source": [
    "mumbai_df = pd.DataFrame(Doc_profile)"
   ]
  },
  {
   "cell_type": "code",
   "execution_count": 32,
   "id": "c067e4e2",
   "metadata": {},
   "outputs": [
    {
     "data": {
      "text/html": [
       "<div>\n",
       "<style scoped>\n",
       "    .dataframe tbody tr th:only-of-type {\n",
       "        vertical-align: middle;\n",
       "    }\n",
       "\n",
       "    .dataframe tbody tr th {\n",
       "        vertical-align: top;\n",
       "    }\n",
       "\n",
       "    .dataframe thead th {\n",
       "        text-align: right;\n",
       "    }\n",
       "</style>\n",
       "<table border=\"1\" class=\"dataframe\">\n",
       "  <thead>\n",
       "    <tr style=\"text-align: right;\">\n",
       "      <th></th>\n",
       "      <th>name</th>\n",
       "      <th>Speciality</th>\n",
       "      <th>Experience</th>\n",
       "      <th>Location</th>\n",
       "      <th>District</th>\n",
       "      <th>DP_score</th>\n",
       "      <th>Num_of_votes</th>\n",
       "      <th>Consultation_Fee</th>\n",
       "      <th>Degree</th>\n",
       "    </tr>\n",
       "  </thead>\n",
       "  <tbody>\n",
       "    <tr>\n",
       "      <th>0</th>\n",
       "      <td>Dr. Shradha Goel</td>\n",
       "      <td>Ophthalmologist</td>\n",
       "      <td>20</td>\n",
       "      <td>Mumbai</td>\n",
       "      <td>Andheri West</td>\n",
       "      <td>99%</td>\n",
       "      <td>169</td>\n",
       "      <td>499</td>\n",
       "      <td>MS - Ophthalmology, MBBS</td>\n",
       "    </tr>\n",
       "    <tr>\n",
       "      <th>1</th>\n",
       "      <td>Dr. Sony Mehta</td>\n",
       "      <td>Urologist</td>\n",
       "      <td>9</td>\n",
       "      <td>Mumbai</td>\n",
       "      <td>Andheri</td>\n",
       "      <td>99%</td>\n",
       "      <td>303</td>\n",
       "      <td>2000</td>\n",
       "      <td>MBBS, DNB - General Surgery, DNB - Urology/Gen...</td>\n",
       "    </tr>\n",
       "    <tr>\n",
       "      <th>2</th>\n",
       "      <td>Dr. Samir Bagadia</td>\n",
       "      <td>Urologist</td>\n",
       "      <td>8</td>\n",
       "      <td>Mumbai</td>\n",
       "      <td>Andheri</td>\n",
       "      <td>100%</td>\n",
       "      <td>4</td>\n",
       "      <td>1000</td>\n",
       "      <td>MBBS, MS - General Surgery, DNB - Urology/Geni...</td>\n",
       "    </tr>\n",
       "    <tr>\n",
       "      <th>3</th>\n",
       "      <td>Dr. Nikunj Mody</td>\n",
       "      <td>Plastic Surgeon</td>\n",
       "      <td>15</td>\n",
       "      <td>Mumbai</td>\n",
       "      <td>Chembur</td>\n",
       "      <td>100%</td>\n",
       "      <td>33</td>\n",
       "      <td>1000</td>\n",
       "      <td>MCh - Plastic &amp; Reconstructive Surgery, MS - G...</td>\n",
       "    </tr>\n",
       "    <tr>\n",
       "      <th>4</th>\n",
       "      <td>Dr. Saumil Sheth</td>\n",
       "      <td>Ophthalmologist</td>\n",
       "      <td>22</td>\n",
       "      <td>Mumbai</td>\n",
       "      <td>Jogeshwari West</td>\n",
       "      <td>95%</td>\n",
       "      <td>27</td>\n",
       "      <td>499</td>\n",
       "      <td>MBBS, MS - Ophthalmology, DNB - Ophthalmology,...</td>\n",
       "    </tr>\n",
       "    <tr>\n",
       "      <th>...</th>\n",
       "      <td>...</td>\n",
       "      <td>...</td>\n",
       "      <td>...</td>\n",
       "      <td>...</td>\n",
       "      <td>...</td>\n",
       "      <td>...</td>\n",
       "      <td>...</td>\n",
       "      <td>...</td>\n",
       "      <td>...</td>\n",
       "    </tr>\n",
       "    <tr>\n",
       "      <th>1015</th>\n",
       "      <td>Dr. Arun.H  Garg</td>\n",
       "      <td>Dentist</td>\n",
       "      <td>37</td>\n",
       "      <td>Mumbai</td>\n",
       "      <td>Chembur East</td>\n",
       "      <td>96%</td>\n",
       "      <td>48</td>\n",
       "      <td>500</td>\n",
       "      <td>BDS, MDS - Oral &amp; Maxillofacial Surgery</td>\n",
       "    </tr>\n",
       "    <tr>\n",
       "      <th>1016</th>\n",
       "      <td>Dr. Mansi Sanghvi</td>\n",
       "      <td>Dermatologist</td>\n",
       "      <td>18</td>\n",
       "      <td>Mumbai</td>\n",
       "      <td>Powai</td>\n",
       "      <td>97%</td>\n",
       "      <td>53</td>\n",
       "      <td>1200</td>\n",
       "      <td>MBBS, DNB - Dermatology &amp; Venereology</td>\n",
       "    </tr>\n",
       "    <tr>\n",
       "      <th>1017</th>\n",
       "      <td>Dr. Snehal Kothari</td>\n",
       "      <td>Cardiologist</td>\n",
       "      <td>21</td>\n",
       "      <td>Mumbai</td>\n",
       "      <td>Mahim</td>\n",
       "      <td>99%</td>\n",
       "      <td>69</td>\n",
       "      <td>1800</td>\n",
       "      <td>DM - Cardiology, DNB - Cardiology, MD - Medici...</td>\n",
       "    </tr>\n",
       "    <tr>\n",
       "      <th>1018</th>\n",
       "      <td>Dr. Arun Behl</td>\n",
       "      <td>General Surgeon</td>\n",
       "      <td>49</td>\n",
       "      <td>Mumbai</td>\n",
       "      <td>Mulund West</td>\n",
       "      <td>50%</td>\n",
       "      <td>N/A</td>\n",
       "      <td>2000</td>\n",
       "      <td>MBBS, MS - General Surgery</td>\n",
       "    </tr>\n",
       "    <tr>\n",
       "      <th>1019</th>\n",
       "      <td>Dr. Zahra Hussain   (Physiotherapist)</td>\n",
       "      <td>Physiotherapist</td>\n",
       "      <td>10</td>\n",
       "      <td>Mumbai</td>\n",
       "      <td>Colaba</td>\n",
       "      <td>98%</td>\n",
       "      <td>40</td>\n",
       "      <td>350</td>\n",
       "      <td>BPTh/BPT</td>\n",
       "    </tr>\n",
       "  </tbody>\n",
       "</table>\n",
       "<p>1020 rows × 9 columns</p>\n",
       "</div>"
      ],
      "text/plain": [
       "                                       name       Speciality Experience  \\\n",
       "0                          Dr. Shradha Goel  Ophthalmologist         20   \n",
       "1                            Dr. Sony Mehta        Urologist         9    \n",
       "2                         Dr. Samir Bagadia        Urologist         8    \n",
       "3                           Dr. Nikunj Mody  Plastic Surgeon         15   \n",
       "4                          Dr. Saumil Sheth  Ophthalmologist         22   \n",
       "...                                     ...              ...        ...   \n",
       "1015                       Dr. Arun.H  Garg          Dentist         37   \n",
       "1016                      Dr. Mansi Sanghvi    Dermatologist         18   \n",
       "1017                     Dr. Snehal Kothari     Cardiologist         21   \n",
       "1018                          Dr. Arun Behl  General Surgeon         49   \n",
       "1019  Dr. Zahra Hussain   (Physiotherapist)  Physiotherapist         10   \n",
       "\n",
       "     Location         District DP_score Num_of_votes Consultation_Fee  \\\n",
       "0      Mumbai     Andheri West     99%           169              499   \n",
       "1      Mumbai          Andheri     99%           303             2000   \n",
       "2      Mumbai          Andheri    100%             4             1000   \n",
       "3      Mumbai          Chembur    100%            33             1000   \n",
       "4      Mumbai  Jogeshwari West     95%            27              499   \n",
       "...       ...              ...      ...          ...              ...   \n",
       "1015   Mumbai     Chembur East     96%            48              500   \n",
       "1016   Mumbai            Powai     97%            53             1200   \n",
       "1017   Mumbai            Mahim     99%            69             1800   \n",
       "1018   Mumbai      Mulund West     50%           N/A             2000   \n",
       "1019   Mumbai           Colaba     98%            40              350   \n",
       "\n",
       "                                                 Degree  \n",
       "0                              MS - Ophthalmology, MBBS  \n",
       "1     MBBS, DNB - General Surgery, DNB - Urology/Gen...  \n",
       "2     MBBS, MS - General Surgery, DNB - Urology/Geni...  \n",
       "3     MCh - Plastic & Reconstructive Surgery, MS - G...  \n",
       "4     MBBS, MS - Ophthalmology, DNB - Ophthalmology,...  \n",
       "...                                                 ...  \n",
       "1015            BDS, MDS - Oral & Maxillofacial Surgery  \n",
       "1016              MBBS, DNB - Dermatology & Venereology  \n",
       "1017  DM - Cardiology, DNB - Cardiology, MD - Medici...  \n",
       "1018                         MBBS, MS - General Surgery  \n",
       "1019                                           BPTh/BPT  \n",
       "\n",
       "[1020 rows x 9 columns]"
      ]
     },
     "execution_count": 32,
     "metadata": {},
     "output_type": "execute_result"
    }
   ],
   "source": [
    "mumbai_df"
   ]
  },
  {
   "cell_type": "code",
   "execution_count": 33,
   "id": "948d6b7a",
   "metadata": {},
   "outputs": [],
   "source": [
    "mumbai_df.to_csv(r'C:\\Users\\Nishant Shukla\\Desktop\\mumbai_2.csv')"
   ]
  },
  {
   "cell_type": "code",
   "execution_count": null,
   "id": "6f79afd5",
   "metadata": {},
   "outputs": [],
   "source": []
  }
 ],
 "metadata": {
  "kernelspec": {
   "display_name": "Python 3 (ipykernel)",
   "language": "python",
   "name": "python3"
  },
  "language_info": {
   "codemirror_mode": {
    "name": "ipython",
    "version": 3
   },
   "file_extension": ".py",
   "mimetype": "text/x-python",
   "name": "python",
   "nbconvert_exporter": "python",
   "pygments_lexer": "ipython3",
   "version": "3.9.12"
  }
 },
 "nbformat": 4,
 "nbformat_minor": 5
}
